{
 "cells": [
  {
   "cell_type": "code",
   "execution_count": 14,
   "metadata": {},
   "outputs": [
    {
     "name": "stdout",
     "output_type": "stream",
     "text": [
      "Variables: {'problem_name': 'Test', 'knapsack_data_type': 'unknown', 'dimension': 4, 'num_items': 3, 'knapsack_capacity': 80, 'min_speed': 0.1, 'max_speed': 1.0, 'renting_ratio': 1.516, 'edge_weight_type': 'CEIL_2D'}\n",
      "Node Coord:    Index    X    Y\n",
      "0      1  0.0  0.0\n",
      "1      2  4.0  0.0\n",
      "2      3  8.0  3.0\n",
      "3      4  0.0  3.0\n",
      "Profit Matrix:    Index  Profit  Weight  Assigned_Node\n",
      "0      2      34      30              2\n",
      "1      3      40      40              3\n",
      "2      4      25      21              4\n"
     ]
    }
   ],
   "source": [
    "import concurrent.futures\n",
    "import pandas as pd\n",
    "def parse_variables(lines):\n",
    "    variables = {}\n",
    "    for line in lines:\n",
    "        if line.startswith(\"PROBLEM NAME:\"):\n",
    "            variables['problem_name'] = line.split(':')[1].strip()\n",
    "        elif line.startswith(\"KNAPSACK DATA TYPE:\"):\n",
    "            variables['knapsack_data_type'] = line.split(':')[1].strip()\n",
    "        elif line.startswith(\"DIMENSION:\"):\n",
    "            variables['dimension'] = int(line.split(':')[1].strip())\n",
    "        elif line.startswith(\"NUMBER OF ITEMS:\"):\n",
    "            variables['num_items'] = int(line.split(':')[1].strip())\n",
    "        elif line.startswith(\"CAPACITY OF KNAPSACK:\"):\n",
    "            variables['knapsack_capacity'] = int(line.split(':')[1].strip())\n",
    "        elif line.startswith(\"MIN SPEED:\"):\n",
    "            variables['min_speed'] = float(line.split(':')[1].strip())\n",
    "        elif line.startswith(\"MAX SPEED:\"):\n",
    "            variables['max_speed'] = float(line.split(':')[1].strip())\n",
    "        elif line.startswith(\"RENTING RATIO:\"):\n",
    "            variables['renting_ratio'] = float(line.split(':')[1].strip())\n",
    "        elif line.startswith(\"EDGE_WEIGHT_TYPE:\"):\n",
    "            variables['edge_weight_type'] = line.split(':')[1].strip()\n",
    "    return variables\n",
    "\n",
    "def parse_node_coord(lines, start_line, dimension):\n",
    "    data = []\n",
    "    for line in lines[start_line:start_line + dimension]:\n",
    "        parts = line.split()\n",
    "        index = int(parts[0])\n",
    "        x = float(parts[1])\n",
    "        y = float(parts[2])\n",
    "        data.append({'Index': index, 'X': x, 'Y': y})\n",
    "    return pd.DataFrame(data)\n",
    "\n",
    "def parse_item_section(lines, start_line, dimension):\n",
    "    data = []\n",
    "    for line in lines[start_line:start_line + dimension]:\n",
    "        index, profit, weight, assigned_node = map(int, line.split())\n",
    "        data.append({'Index': index, 'Profit': profit, 'Weight': weight, 'Assigned_Node': assigned_node})\n",
    "    return pd.DataFrame(data)\n",
    "\n",
    "def parse_file_parallel(lines, dimension):\n",
    "    with concurrent.futures.ThreadPoolExecutor() as executor:\n",
    "        future_node_coord = executor.submit(parse_node_coord, lines, 10, dimension)\n",
    "        future_profit_matrix = executor.submit(parse_item_section, lines, 10 + dimension + 1, dimension)\n",
    "\n",
    "    node_coord = future_node_coord.result()\n",
    "    profit_matrix = future_profit_matrix.result()\n",
    "\n",
    "    return node_coord, profit_matrix\n",
    "\n",
    "\n",
    "# Example usage:\n",
    "\n",
    "with open('test-example-n4.txt', 'r') as file:\n",
    "    lines = file.readlines()\n",
    "\n",
    "variables = parse_variables(lines)\n",
    "node_coord, profit_matrix = parse_file_parallel(lines, variables['dimension'])\n",
    "\n",
    "print(\"Variables:\", variables)\n",
    "print(\"Node Coord:\", node_coord)\n",
    "print(\"Profit Matrix:\", profit_matrix)\n"
   ]
  },
  {
   "cell_type": "code",
   "execution_count": 15,
   "metadata": {},
   "outputs": [
    {
     "data": {
      "text/plain": [
       "{'problem_name': 'Test',\n",
       " 'knapsack_data_type': 'unknown',\n",
       " 'dimension': 4,\n",
       " 'num_items': 3,\n",
       " 'knapsack_capacity': 80,\n",
       " 'min_speed': 0.1,\n",
       " 'max_speed': 1.0,\n",
       " 'renting_ratio': 1.516,\n",
       " 'edge_weight_type': 'CEIL_2D'}"
      ]
     },
     "execution_count": 15,
     "metadata": {},
     "output_type": "execute_result"
    }
   ],
   "source": [
    "variables"
   ]
  },
  {
   "cell_type": "code",
   "execution_count": 16,
   "metadata": {},
   "outputs": [
    {
     "data": {
      "text/html": [
       "<div>\n",
       "<style scoped>\n",
       "    .dataframe tbody tr th:only-of-type {\n",
       "        vertical-align: middle;\n",
       "    }\n",
       "\n",
       "    .dataframe tbody tr th {\n",
       "        vertical-align: top;\n",
       "    }\n",
       "\n",
       "    .dataframe thead th {\n",
       "        text-align: right;\n",
       "    }\n",
       "</style>\n",
       "<table border=\"1\" class=\"dataframe\">\n",
       "  <thead>\n",
       "    <tr style=\"text-align: right;\">\n",
       "      <th></th>\n",
       "      <th>Index</th>\n",
       "      <th>X</th>\n",
       "      <th>Y</th>\n",
       "    </tr>\n",
       "  </thead>\n",
       "  <tbody>\n",
       "    <tr>\n",
       "      <th>0</th>\n",
       "      <td>1</td>\n",
       "      <td>0.0</td>\n",
       "      <td>0.0</td>\n",
       "    </tr>\n",
       "    <tr>\n",
       "      <th>1</th>\n",
       "      <td>2</td>\n",
       "      <td>4.0</td>\n",
       "      <td>0.0</td>\n",
       "    </tr>\n",
       "    <tr>\n",
       "      <th>2</th>\n",
       "      <td>3</td>\n",
       "      <td>8.0</td>\n",
       "      <td>3.0</td>\n",
       "    </tr>\n",
       "    <tr>\n",
       "      <th>3</th>\n",
       "      <td>4</td>\n",
       "      <td>0.0</td>\n",
       "      <td>3.0</td>\n",
       "    </tr>\n",
       "  </tbody>\n",
       "</table>\n",
       "</div>"
      ],
      "text/plain": [
       "   Index    X    Y\n",
       "0      1  0.0  0.0\n",
       "1      2  4.0  0.0\n",
       "2      3  8.0  3.0\n",
       "3      4  0.0  3.0"
      ]
     },
     "execution_count": 16,
     "metadata": {},
     "output_type": "execute_result"
    }
   ],
   "source": [
    "node_coord"
   ]
  },
  {
   "cell_type": "code",
   "execution_count": 17,
   "metadata": {},
   "outputs": [],
   "source": [
    "profit_table=profit_matrix"
   ]
  },
  {
   "cell_type": "code",
   "execution_count": 18,
   "metadata": {},
   "outputs": [],
   "source": [
    "import numpy as np\n",
    "\n",
    "def calculate_distance_matrix(node_coord):\n",
    "    coordinates = node_coord[['X', 'Y']].values\n",
    "    x, y = np.meshgrid(coordinates[:, 0], coordinates[:, 1])\n",
    "\n",
    "    distance_matrix = np.sqrt((x - x.T)**2 + (y - y.T)**2)\n",
    "    \n",
    "    return distance_matrix\n"
   ]
  },
  {
   "cell_type": "code",
   "execution_count": 19,
   "metadata": {},
   "outputs": [],
   "source": [
    "distance_matrix=calculate_distance_matrix(node_coord)"
   ]
  },
  {
   "cell_type": "code",
   "execution_count": 20,
   "metadata": {},
   "outputs": [
    {
     "data": {
      "text/plain": [
       "array([[0.        , 4.        , 8.54400375, 3.        ],\n",
       "       [4.        , 0.        , 5.        , 5.        ],\n",
       "       [8.54400375, 5.        , 0.        , 8.        ],\n",
       "       [3.        , 5.        , 8.        , 0.        ]])"
      ]
     },
     "execution_count": 20,
     "metadata": {},
     "output_type": "execute_result"
    }
   ],
   "source": [
    "distance_matrix"
   ]
  },
  {
   "cell_type": "code",
   "execution_count": 21,
   "metadata": {},
   "outputs": [
    {
     "data": {
      "text/html": [
       "<div>\n",
       "<style scoped>\n",
       "    .dataframe tbody tr th:only-of-type {\n",
       "        vertical-align: middle;\n",
       "    }\n",
       "\n",
       "    .dataframe tbody tr th {\n",
       "        vertical-align: top;\n",
       "    }\n",
       "\n",
       "    .dataframe thead th {\n",
       "        text-align: right;\n",
       "    }\n",
       "</style>\n",
       "<table border=\"1\" class=\"dataframe\">\n",
       "  <thead>\n",
       "    <tr style=\"text-align: right;\">\n",
       "      <th></th>\n",
       "      <th>Index</th>\n",
       "      <th>Profit</th>\n",
       "      <th>Weight</th>\n",
       "      <th>Assigned_Node</th>\n",
       "    </tr>\n",
       "  </thead>\n",
       "  <tbody>\n",
       "    <tr>\n",
       "      <th>0</th>\n",
       "      <td>2</td>\n",
       "      <td>34</td>\n",
       "      <td>30</td>\n",
       "      <td>2</td>\n",
       "    </tr>\n",
       "    <tr>\n",
       "      <th>1</th>\n",
       "      <td>3</td>\n",
       "      <td>40</td>\n",
       "      <td>40</td>\n",
       "      <td>3</td>\n",
       "    </tr>\n",
       "    <tr>\n",
       "      <th>2</th>\n",
       "      <td>4</td>\n",
       "      <td>25</td>\n",
       "      <td>21</td>\n",
       "      <td>4</td>\n",
       "    </tr>\n",
       "  </tbody>\n",
       "</table>\n",
       "</div>"
      ],
      "text/plain": [
       "   Index  Profit  Weight  Assigned_Node\n",
       "0      2      34      30              2\n",
       "1      3      40      40              3\n",
       "2      4      25      21              4"
      ]
     },
     "execution_count": 21,
     "metadata": {},
     "output_type": "execute_result"
    }
   ],
   "source": [
    "profit_table"
   ]
  },
  {
   "cell_type": "code",
   "execution_count": 26,
   "metadata": {},
   "outputs": [],
   "source": [
    "packing_plan_example=[1,0,1]\n"
   ]
  },
  {
   "cell_type": "code",
   "execution_count": 27,
   "metadata": {},
   "outputs": [],
   "source": [
    "profit_table['Picked'] = packing_plan_example\n"
   ]
  },
  {
   "cell_type": "code",
   "execution_count": 31,
   "metadata": {},
   "outputs": [],
   "source": [
    "profit_table.to_clipboard()"
   ]
  },
  {
   "cell_type": "code",
   "execution_count": 22,
   "metadata": {},
   "outputs": [
    {
     "data": {
      "text/html": [
       "<div>\n",
       "<style scoped>\n",
       "    .dataframe tbody tr th:only-of-type {\n",
       "        vertical-align: middle;\n",
       "    }\n",
       "\n",
       "    .dataframe tbody tr th {\n",
       "        vertical-align: top;\n",
       "    }\n",
       "\n",
       "    .dataframe thead th {\n",
       "        text-align: right;\n",
       "    }\n",
       "</style>\n",
       "<table border=\"1\" class=\"dataframe\">\n",
       "  <thead>\n",
       "    <tr style=\"text-align: right;\">\n",
       "      <th></th>\n",
       "      <th>0</th>\n",
       "      <th>1</th>\n",
       "      <th>2</th>\n",
       "      <th>3</th>\n",
       "    </tr>\n",
       "  </thead>\n",
       "  <tbody>\n",
       "    <tr>\n",
       "      <th>0</th>\n",
       "      <td>0.000000</td>\n",
       "      <td>4.0</td>\n",
       "      <td>8.544004</td>\n",
       "      <td>3.0</td>\n",
       "    </tr>\n",
       "    <tr>\n",
       "      <th>1</th>\n",
       "      <td>4.000000</td>\n",
       "      <td>0.0</td>\n",
       "      <td>5.000000</td>\n",
       "      <td>5.0</td>\n",
       "    </tr>\n",
       "    <tr>\n",
       "      <th>2</th>\n",
       "      <td>8.544004</td>\n",
       "      <td>5.0</td>\n",
       "      <td>0.000000</td>\n",
       "      <td>8.0</td>\n",
       "    </tr>\n",
       "    <tr>\n",
       "      <th>3</th>\n",
       "      <td>3.000000</td>\n",
       "      <td>5.0</td>\n",
       "      <td>8.000000</td>\n",
       "      <td>0.0</td>\n",
       "    </tr>\n",
       "  </tbody>\n",
       "</table>\n",
       "</div>"
      ],
      "text/plain": [
       "          0    1         2    3\n",
       "0  0.000000  4.0  8.544004  3.0\n",
       "1  4.000000  0.0  5.000000  5.0\n",
       "2  8.544004  5.0  0.000000  8.0\n",
       "3  3.000000  5.0  8.000000  0.0"
      ]
     },
     "execution_count": 22,
     "metadata": {},
     "output_type": "execute_result"
    }
   ],
   "source": [
    "pd.DataFrame(distance_matrix)"
   ]
  },
  {
   "cell_type": "code",
   "execution_count": 23,
   "metadata": {},
   "outputs": [
    {
     "data": {
      "text/html": [
       "<div>\n",
       "<style scoped>\n",
       "    .dataframe tbody tr th:only-of-type {\n",
       "        vertical-align: middle;\n",
       "    }\n",
       "\n",
       "    .dataframe tbody tr th {\n",
       "        vertical-align: top;\n",
       "    }\n",
       "\n",
       "    .dataframe thead th {\n",
       "        text-align: right;\n",
       "    }\n",
       "</style>\n",
       "<table border=\"1\" class=\"dataframe\">\n",
       "  <thead>\n",
       "    <tr style=\"text-align: right;\">\n",
       "      <th></th>\n",
       "      <th>0</th>\n",
       "      <th>1</th>\n",
       "      <th>2</th>\n",
       "      <th>3</th>\n",
       "    </tr>\n",
       "  </thead>\n",
       "  <tbody>\n",
       "    <tr>\n",
       "      <th>0</th>\n",
       "      <td>0.000000</td>\n",
       "      <td>4.0</td>\n",
       "      <td>8.544004</td>\n",
       "      <td>3.0</td>\n",
       "    </tr>\n",
       "    <tr>\n",
       "      <th>1</th>\n",
       "      <td>4.000000</td>\n",
       "      <td>0.0</td>\n",
       "      <td>5.000000</td>\n",
       "      <td>5.0</td>\n",
       "    </tr>\n",
       "    <tr>\n",
       "      <th>2</th>\n",
       "      <td>8.544004</td>\n",
       "      <td>5.0</td>\n",
       "      <td>0.000000</td>\n",
       "      <td>8.0</td>\n",
       "    </tr>\n",
       "    <tr>\n",
       "      <th>3</th>\n",
       "      <td>3.000000</td>\n",
       "      <td>5.0</td>\n",
       "      <td>8.000000</td>\n",
       "      <td>0.0</td>\n",
       "    </tr>\n",
       "  </tbody>\n",
       "</table>\n",
       "</div>"
      ],
      "text/plain": [
       "          0    1         2    3\n",
       "0  0.000000  4.0  8.544004  3.0\n",
       "1  4.000000  0.0  5.000000  5.0\n",
       "2  8.544004  5.0  0.000000  8.0\n",
       "3  3.000000  5.0  8.000000  0.0"
      ]
     },
     "execution_count": 23,
     "metadata": {},
     "output_type": "execute_result"
    }
   ],
   "source": [
    "pd.DataFrame(calculate_distance_matrix(node_coord))"
   ]
  },
  {
   "cell_type": "code",
   "execution_count": 24,
   "metadata": {},
   "outputs": [],
   "source": [
    "tour_example=[1,3,2,4]\n",
    "packing_plan_example=[1,0,1]"
   ]
  },
  {
   "cell_type": "code",
   "execution_count": 80,
   "metadata": {},
   "outputs": [
    {
     "data": {
      "text/plain": [
       "{'dimension': 4,\n",
       " 'num_items': 3,\n",
       " 'capacity': 80,\n",
       " 'min_speed': 0.1,\n",
       " 'max_speed': 1.0,\n",
       " 'renting_ratio': 1.516,\n",
       " 'edge_weight_type': 'CEIL_2D'}"
      ]
     },
     "execution_count": 80,
     "metadata": {},
     "output_type": "execute_result"
    }
   ],
   "source": [
    "variables"
   ]
  },
  {
   "cell_type": "code",
   "execution_count": 88,
   "metadata": {},
   "outputs": [],
   "source": [
    "def calculate_current_velocity(weight, capacity, min_speed, max_speed):\n",
    "    if weight <= capacity:\n",
    "        return max_speed - (weight / capacity) * (max_speed - min_speed)\n",
    "    else:\n",
    "        return min_speed\n"
   ]
  },
  {
   "cell_type": "code",
   "execution_count": 102,
   "metadata": {},
   "outputs": [],
   "source": [
    "def calculate_cost(tour, packing_plan, variables,distance_matrix,profit_table):\n",
    "    dimension = variables['dimension']\n",
    "    max_speed = variables['max_speed']\n",
    "\n",
    "    current_weight = 0\n",
    "    total_time = 0\n",
    "    current_velocity = max_speed\n",
    "\n",
    "    for i in range(dimension):\n",
    "        # Calculate the distance between consecutive cities\n",
    "        distance = distance_matrix[tour[i % dimension]][tour[(i + 1) % dimension]]\n",
    "\n",
    "        # Calculate the time taken to travel the distance\n",
    "        time_to_travel = distance / current_velocity\n",
    "        total_time += time_to_travel\n",
    "\n",
    "        # Update current weight based on the packing plan\n",
    "        current_weight += packing_plan[i % dimension] * profit_table['Weight'][i]\n",
    "\n",
    "        # Calculate the current velocity\n",
    "        current_velocity = calculate_current_velocity(current_weight, variables['capacity'],\n",
    "                                                      variables['min_speed'], variables['max_speed'])\n",
    "\n",
    "    return total_time\n"
   ]
  },
  {
   "cell_type": "code",
   "execution_count": 103,
   "metadata": {},
   "outputs": [
    {
     "ename": "IndexError",
     "evalue": "index 4 is out of bounds for axis 0 with size 4",
     "output_type": "error",
     "traceback": [
      "\u001b[0;31m---------------------------------------------------------------------------\u001b[0m",
      "\u001b[0;31mIndexError\u001b[0m                                Traceback (most recent call last)",
      "Cell \u001b[0;32mIn[103], line 1\u001b[0m\n\u001b[0;32m----> 1\u001b[0m \u001b[43mcalculate_cost\u001b[49m\u001b[43m(\u001b[49m\u001b[43mtour\u001b[49m\u001b[38;5;241;43m=\u001b[39;49m\u001b[43mtour_example\u001b[49m\u001b[43m,\u001b[49m\u001b[43mpacking_plan\u001b[49m\u001b[38;5;241;43m=\u001b[39;49m\u001b[43mpacking_plan_example\u001b[49m\u001b[43m,\u001b[49m\u001b[43mvariables\u001b[49m\u001b[38;5;241;43m=\u001b[39;49m\u001b[43mvariables\u001b[49m\u001b[43m,\u001b[49m\u001b[43mdistance_matrix\u001b[49m\u001b[38;5;241;43m=\u001b[39;49m\u001b[43mdistance_matrix\u001b[49m\u001b[43m,\u001b[49m\u001b[43mprofit_table\u001b[49m\u001b[38;5;241;43m=\u001b[39;49m\u001b[43mprofit_table\u001b[49m\u001b[43m)\u001b[49m\n",
      "Cell \u001b[0;32mIn[102], line 11\u001b[0m, in \u001b[0;36mcalculate_cost\u001b[0;34m(tour, packing_plan, variables, distance_matrix, profit_table)\u001b[0m\n\u001b[1;32m      7\u001b[0m current_velocity \u001b[38;5;241m=\u001b[39m max_speed\n\u001b[1;32m      9\u001b[0m \u001b[38;5;28;01mfor\u001b[39;00m i \u001b[38;5;129;01min\u001b[39;00m \u001b[38;5;28mrange\u001b[39m(dimension):\n\u001b[1;32m     10\u001b[0m     \u001b[38;5;66;03m# Calculate the distance between consecutive cities\u001b[39;00m\n\u001b[0;32m---> 11\u001b[0m     distance \u001b[38;5;241m=\u001b[39m \u001b[43mdistance_matrix\u001b[49m\u001b[43m[\u001b[49m\u001b[43mtour\u001b[49m\u001b[43m[\u001b[49m\u001b[43mi\u001b[49m\u001b[43m \u001b[49m\u001b[38;5;241;43m%\u001b[39;49m\u001b[43m \u001b[49m\u001b[43mdimension\u001b[49m\u001b[43m]\u001b[49m\u001b[43m]\u001b[49m\u001b[43m[\u001b[49m\u001b[43mtour\u001b[49m\u001b[43m[\u001b[49m\u001b[43m(\u001b[49m\u001b[43mi\u001b[49m\u001b[43m \u001b[49m\u001b[38;5;241;43m+\u001b[39;49m\u001b[43m \u001b[49m\u001b[38;5;241;43m1\u001b[39;49m\u001b[43m)\u001b[49m\u001b[43m \u001b[49m\u001b[38;5;241;43m%\u001b[39;49m\u001b[43m \u001b[49m\u001b[43mdimension\u001b[49m\u001b[43m]\u001b[49m\u001b[43m]\u001b[49m\n\u001b[1;32m     13\u001b[0m     \u001b[38;5;66;03m# Calculate the time taken to travel the distance\u001b[39;00m\n\u001b[1;32m     14\u001b[0m     time_to_travel \u001b[38;5;241m=\u001b[39m distance \u001b[38;5;241m/\u001b[39m current_velocity\n",
      "\u001b[0;31mIndexError\u001b[0m: index 4 is out of bounds for axis 0 with size 4"
     ]
    }
   ],
   "source": [
    "calculate_cost(tour=tour_example,packing_plan=packing_plan_example,variables=variables,distance_matrix=distance_matrix,profit_table=profit_table)"
   ]
  },
  {
   "cell_type": "code",
   "execution_count": 81,
   "metadata": {},
   "outputs": [],
   "source": [
    "def calculate_cost(tour, packing_plan, min_speed, max_speed, renting_ratio, distance_matrix, profit_table):\n",
    "        total_time = 0.0\n",
    "        current_weight = 0\n",
    "\n",
    "        # Initial velocity\n",
    "        current_velocity = max_speed\n",
    "\n",
    "        for i in range(len(tour)):\n",
    "            current_city = tour[i]\n",
    "\n",
    "            # Calculate the travel time to the next city\n",
    "            if i < len(tour) - 1:\n",
    "                next_city = tour[i + 1]\n",
    "                travel_time = distance_matrix[current_city][next_city] / current_velocity\n",
    "                total_time += travel_time\n",
    "\n",
    "            # Update the knapsack weight and velocity based on packing plan\n",
    "            if packing_plan[current_city - 1] == 1:\n",
    "                current_weight += profit_table[current_city - 1]['Weight']\n",
    "                current_velocity = max(min_speed, current_velocity - renting_ratio * current_weight)\n",
    "\n",
    "        return total_time"
   ]
  },
  {
   "cell_type": "code",
   "execution_count": 82,
   "metadata": {},
   "outputs": [
    {
     "data": {
      "text/plain": [
       "{'dimension': 4,\n",
       " 'num_items': 3,\n",
       " 'capacity': 80,\n",
       " 'min_speed': 0.1,\n",
       " 'max_speed': 1.0,\n",
       " 'renting_ratio': 1.516,\n",
       " 'edge_weight_type': 'CEIL_2D'}"
      ]
     },
     "execution_count": 82,
     "metadata": {},
     "output_type": "execute_result"
    }
   ],
   "source": [
    "variables"
   ]
  },
  {
   "cell_type": "code",
   "execution_count": 85,
   "metadata": {},
   "outputs": [
    {
     "ename": "KeyError",
     "evalue": "0",
     "output_type": "error",
     "traceback": [
      "\u001b[0;31m---------------------------------------------------------------------------\u001b[0m",
      "\u001b[0;31mKeyError\u001b[0m                                  Traceback (most recent call last)",
      "File \u001b[0;32m/opt/homebrew/lib/python3.10/site-packages/pandas/core/indexes/base.py:3791\u001b[0m, in \u001b[0;36mIndex.get_loc\u001b[0;34m(self, key)\u001b[0m\n\u001b[1;32m   3790\u001b[0m \u001b[38;5;28;01mtry\u001b[39;00m:\n\u001b[0;32m-> 3791\u001b[0m     \u001b[38;5;28;01mreturn\u001b[39;00m \u001b[38;5;28;43mself\u001b[39;49m\u001b[38;5;241;43m.\u001b[39;49m\u001b[43m_engine\u001b[49m\u001b[38;5;241;43m.\u001b[39;49m\u001b[43mget_loc\u001b[49m\u001b[43m(\u001b[49m\u001b[43mcasted_key\u001b[49m\u001b[43m)\u001b[49m\n\u001b[1;32m   3792\u001b[0m \u001b[38;5;28;01mexcept\u001b[39;00m \u001b[38;5;167;01mKeyError\u001b[39;00m \u001b[38;5;28;01mas\u001b[39;00m err:\n",
      "File \u001b[0;32mindex.pyx:152\u001b[0m, in \u001b[0;36mpandas._libs.index.IndexEngine.get_loc\u001b[0;34m()\u001b[0m\n",
      "File \u001b[0;32mindex.pyx:181\u001b[0m, in \u001b[0;36mpandas._libs.index.IndexEngine.get_loc\u001b[0;34m()\u001b[0m\n",
      "File \u001b[0;32mpandas/_libs/hashtable_class_helper.pxi:7080\u001b[0m, in \u001b[0;36mpandas._libs.hashtable.PyObjectHashTable.get_item\u001b[0;34m()\u001b[0m\n",
      "File \u001b[0;32mpandas/_libs/hashtable_class_helper.pxi:7088\u001b[0m, in \u001b[0;36mpandas._libs.hashtable.PyObjectHashTable.get_item\u001b[0;34m()\u001b[0m\n",
      "\u001b[0;31mKeyError\u001b[0m: 0",
      "\nThe above exception was the direct cause of the following exception:\n",
      "\u001b[0;31mKeyError\u001b[0m                                  Traceback (most recent call last)",
      "Cell \u001b[0;32mIn[85], line 1\u001b[0m\n\u001b[0;32m----> 1\u001b[0m \u001b[43mcalculate_cost\u001b[49m\u001b[43m(\u001b[49m\u001b[43mtour_example\u001b[49m\u001b[43m,\u001b[49m\u001b[43m \u001b[49m\u001b[43mpacking_plan_example\u001b[49m\u001b[43m,\u001b[49m\n\u001b[1;32m      2\u001b[0m \u001b[43m                                                \u001b[49m\u001b[43mvariables\u001b[49m\u001b[43m[\u001b[49m\u001b[38;5;124;43m'\u001b[39;49m\u001b[38;5;124;43mmin_speed\u001b[39;49m\u001b[38;5;124;43m'\u001b[39;49m\u001b[43m]\u001b[49m\u001b[43m,\u001b[49m\n\u001b[1;32m      3\u001b[0m \u001b[43m                                                \u001b[49m\u001b[43mvariables\u001b[49m\u001b[43m[\u001b[49m\u001b[38;5;124;43m'\u001b[39;49m\u001b[38;5;124;43mmax_speed\u001b[39;49m\u001b[38;5;124;43m'\u001b[39;49m\u001b[43m]\u001b[49m\u001b[43m,\u001b[49m\n\u001b[1;32m      4\u001b[0m \u001b[43m                                                \u001b[49m\u001b[43mvariables\u001b[49m\u001b[43m[\u001b[49m\u001b[38;5;124;43m'\u001b[39;49m\u001b[38;5;124;43mrenting_ratio\u001b[39;49m\u001b[38;5;124;43m'\u001b[39;49m\u001b[43m]\u001b[49m\u001b[43m,\u001b[49m\n\u001b[1;32m      5\u001b[0m \u001b[43m                                                \u001b[49m\u001b[43mdistance_matrix\u001b[49m\u001b[43m,\u001b[49m\n\u001b[1;32m      6\u001b[0m \u001b[43m                                                \u001b[49m\u001b[43mprofit_table\u001b[49m\u001b[43m)\u001b[49m\n",
      "Cell \u001b[0;32mIn[81], line 19\u001b[0m, in \u001b[0;36mcalculate_cost\u001b[0;34m(tour, packing_plan, min_speed, max_speed, renting_ratio, distance_matrix, profit_table)\u001b[0m\n\u001b[1;32m     17\u001b[0m     \u001b[38;5;66;03m# Update the knapsack weight and velocity based on packing plan\u001b[39;00m\n\u001b[1;32m     18\u001b[0m     \u001b[38;5;28;01mif\u001b[39;00m packing_plan[current_city \u001b[38;5;241m-\u001b[39m \u001b[38;5;241m1\u001b[39m] \u001b[38;5;241m==\u001b[39m \u001b[38;5;241m1\u001b[39m:\n\u001b[0;32m---> 19\u001b[0m         current_weight \u001b[38;5;241m+\u001b[39m\u001b[38;5;241m=\u001b[39m \u001b[43mprofit_table\u001b[49m\u001b[43m[\u001b[49m\u001b[43mcurrent_city\u001b[49m\u001b[43m \u001b[49m\u001b[38;5;241;43m-\u001b[39;49m\u001b[43m \u001b[49m\u001b[38;5;241;43m1\u001b[39;49m\u001b[43m]\u001b[49m[\u001b[38;5;124m'\u001b[39m\u001b[38;5;124mWeight\u001b[39m\u001b[38;5;124m'\u001b[39m]\n\u001b[1;32m     20\u001b[0m         current_velocity \u001b[38;5;241m=\u001b[39m \u001b[38;5;28mmax\u001b[39m(min_speed, current_velocity \u001b[38;5;241m-\u001b[39m renting_ratio \u001b[38;5;241m*\u001b[39m current_weight)\n\u001b[1;32m     22\u001b[0m \u001b[38;5;28;01mreturn\u001b[39;00m total_time\n",
      "File \u001b[0;32m/opt/homebrew/lib/python3.10/site-packages/pandas/core/frame.py:3893\u001b[0m, in \u001b[0;36mDataFrame.__getitem__\u001b[0;34m(self, key)\u001b[0m\n\u001b[1;32m   3891\u001b[0m \u001b[38;5;28;01mif\u001b[39;00m \u001b[38;5;28mself\u001b[39m\u001b[38;5;241m.\u001b[39mcolumns\u001b[38;5;241m.\u001b[39mnlevels \u001b[38;5;241m>\u001b[39m \u001b[38;5;241m1\u001b[39m:\n\u001b[1;32m   3892\u001b[0m     \u001b[38;5;28;01mreturn\u001b[39;00m \u001b[38;5;28mself\u001b[39m\u001b[38;5;241m.\u001b[39m_getitem_multilevel(key)\n\u001b[0;32m-> 3893\u001b[0m indexer \u001b[38;5;241m=\u001b[39m \u001b[38;5;28;43mself\u001b[39;49m\u001b[38;5;241;43m.\u001b[39;49m\u001b[43mcolumns\u001b[49m\u001b[38;5;241;43m.\u001b[39;49m\u001b[43mget_loc\u001b[49m\u001b[43m(\u001b[49m\u001b[43mkey\u001b[49m\u001b[43m)\u001b[49m\n\u001b[1;32m   3894\u001b[0m \u001b[38;5;28;01mif\u001b[39;00m is_integer(indexer):\n\u001b[1;32m   3895\u001b[0m     indexer \u001b[38;5;241m=\u001b[39m [indexer]\n",
      "File \u001b[0;32m/opt/homebrew/lib/python3.10/site-packages/pandas/core/indexes/base.py:3798\u001b[0m, in \u001b[0;36mIndex.get_loc\u001b[0;34m(self, key)\u001b[0m\n\u001b[1;32m   3793\u001b[0m     \u001b[38;5;28;01mif\u001b[39;00m \u001b[38;5;28misinstance\u001b[39m(casted_key, \u001b[38;5;28mslice\u001b[39m) \u001b[38;5;129;01mor\u001b[39;00m (\n\u001b[1;32m   3794\u001b[0m         \u001b[38;5;28misinstance\u001b[39m(casted_key, abc\u001b[38;5;241m.\u001b[39mIterable)\n\u001b[1;32m   3795\u001b[0m         \u001b[38;5;129;01mand\u001b[39;00m \u001b[38;5;28many\u001b[39m(\u001b[38;5;28misinstance\u001b[39m(x, \u001b[38;5;28mslice\u001b[39m) \u001b[38;5;28;01mfor\u001b[39;00m x \u001b[38;5;129;01min\u001b[39;00m casted_key)\n\u001b[1;32m   3796\u001b[0m     ):\n\u001b[1;32m   3797\u001b[0m         \u001b[38;5;28;01mraise\u001b[39;00m InvalidIndexError(key)\n\u001b[0;32m-> 3798\u001b[0m     \u001b[38;5;28;01mraise\u001b[39;00m \u001b[38;5;167;01mKeyError\u001b[39;00m(key) \u001b[38;5;28;01mfrom\u001b[39;00m \u001b[38;5;21;01merr\u001b[39;00m\n\u001b[1;32m   3799\u001b[0m \u001b[38;5;28;01mexcept\u001b[39;00m \u001b[38;5;167;01mTypeError\u001b[39;00m:\n\u001b[1;32m   3800\u001b[0m     \u001b[38;5;66;03m# If we have a listlike key, _check_indexing_error will raise\u001b[39;00m\n\u001b[1;32m   3801\u001b[0m     \u001b[38;5;66;03m#  InvalidIndexError. Otherwise we fall through and re-raise\u001b[39;00m\n\u001b[1;32m   3802\u001b[0m     \u001b[38;5;66;03m#  the TypeError.\u001b[39;00m\n\u001b[1;32m   3803\u001b[0m     \u001b[38;5;28mself\u001b[39m\u001b[38;5;241m.\u001b[39m_check_indexing_error(key)\n",
      "\u001b[0;31mKeyError\u001b[0m: 0"
     ]
    }
   ],
   "source": [
    "calculate_cost(tour_example, packing_plan_example,\n",
    "                                                variables['min_speed'],\n",
    "                                                variables['max_speed'],\n",
    "                                                variables['renting_ratio'],\n",
    "                                                distance_matrix,\n",
    "                                                profit_table)"
   ]
  },
  {
   "cell_type": "code",
   "execution_count": null,
   "metadata": {},
   "outputs": [],
   "source": []
  },
  {
   "cell_type": "code",
   "execution_count": null,
   "metadata": {},
   "outputs": [],
   "source": [
    "calculate_cost(tour_example, packing_plan_example,\n",
    "                                                min_speed,\n",
    "                                                max_speed,\n",
    "                                                renting_ratio,\n",
    "                                                distance_matrix,\n",
    "                                                profit_table)"
   ]
  },
  {
   "cell_type": "code",
   "execution_count": 58,
   "metadata": {},
   "outputs": [
    {
     "ename": "KeyError",
     "evalue": "0",
     "output_type": "error",
     "traceback": [
      "\u001b[0;31m---------------------------------------------------------------------------\u001b[0m",
      "\u001b[0;31mKeyError\u001b[0m                                  Traceback (most recent call last)",
      "File \u001b[0;32m/opt/homebrew/lib/python3.10/site-packages/pandas/core/indexes/base.py:3791\u001b[0m, in \u001b[0;36mIndex.get_loc\u001b[0;34m(self, key)\u001b[0m\n\u001b[1;32m   3790\u001b[0m \u001b[38;5;28;01mtry\u001b[39;00m:\n\u001b[0;32m-> 3791\u001b[0m     \u001b[38;5;28;01mreturn\u001b[39;00m \u001b[38;5;28;43mself\u001b[39;49m\u001b[38;5;241;43m.\u001b[39;49m\u001b[43m_engine\u001b[49m\u001b[38;5;241;43m.\u001b[39;49m\u001b[43mget_loc\u001b[49m\u001b[43m(\u001b[49m\u001b[43mcasted_key\u001b[49m\u001b[43m)\u001b[49m\n\u001b[1;32m   3792\u001b[0m \u001b[38;5;28;01mexcept\u001b[39;00m \u001b[38;5;167;01mKeyError\u001b[39;00m \u001b[38;5;28;01mas\u001b[39;00m err:\n",
      "File \u001b[0;32mindex.pyx:152\u001b[0m, in \u001b[0;36mpandas._libs.index.IndexEngine.get_loc\u001b[0;34m()\u001b[0m\n",
      "File \u001b[0;32mindex.pyx:181\u001b[0m, in \u001b[0;36mpandas._libs.index.IndexEngine.get_loc\u001b[0;34m()\u001b[0m\n",
      "File \u001b[0;32mpandas/_libs/hashtable_class_helper.pxi:7080\u001b[0m, in \u001b[0;36mpandas._libs.hashtable.PyObjectHashTable.get_item\u001b[0;34m()\u001b[0m\n",
      "File \u001b[0;32mpandas/_libs/hashtable_class_helper.pxi:7088\u001b[0m, in \u001b[0;36mpandas._libs.hashtable.PyObjectHashTable.get_item\u001b[0;34m()\u001b[0m\n",
      "\u001b[0;31mKeyError\u001b[0m: 0",
      "\nThe above exception was the direct cause of the following exception:\n",
      "\u001b[0;31mKeyError\u001b[0m                                  Traceback (most recent call last)",
      "Cell \u001b[0;32mIn[58], line 46\u001b[0m\n\u001b[1;32m     43\u001b[0m tour_example \u001b[38;5;241m=\u001b[39m [\u001b[38;5;241m1\u001b[39m, \u001b[38;5;241m3\u001b[39m, \u001b[38;5;241m2\u001b[39m, \u001b[38;5;241m4\u001b[39m]\n\u001b[1;32m     44\u001b[0m packing_plan_example \u001b[38;5;241m=\u001b[39m [\u001b[38;5;241m1\u001b[39m, \u001b[38;5;241m0\u001b[39m, \u001b[38;5;241m1\u001b[39m]\n\u001b[0;32m---> 46\u001b[0m cost \u001b[38;5;241m=\u001b[39m \u001b[43mtravelling_thief_instance\u001b[49m\u001b[38;5;241;43m.\u001b[39;49m\u001b[43mcalculate_cost\u001b[49m\u001b[43m(\u001b[49m\u001b[43mtour_example\u001b[49m\u001b[43m,\u001b[49m\u001b[43m \u001b[49m\u001b[43mpacking_plan_example\u001b[49m\u001b[43m,\u001b[49m\n\u001b[1;32m     47\u001b[0m \u001b[43m                                                \u001b[49m\u001b[43mtravelling_thief_instance\u001b[49m\u001b[38;5;241;43m.\u001b[39;49m\u001b[43mmin_speed\u001b[49m\u001b[43m,\u001b[49m\n\u001b[1;32m     48\u001b[0m \u001b[43m                                                \u001b[49m\u001b[43mtravelling_thief_instance\u001b[49m\u001b[38;5;241;43m.\u001b[39;49m\u001b[43mmax_speed\u001b[49m\u001b[43m,\u001b[49m\n\u001b[1;32m     49\u001b[0m \u001b[43m                                                \u001b[49m\u001b[43mtravelling_thief_instance\u001b[49m\u001b[38;5;241;43m.\u001b[39;49m\u001b[43mrenting_ratio\u001b[49m\u001b[43m,\u001b[49m\n\u001b[1;32m     50\u001b[0m \u001b[43m                                                \u001b[49m\u001b[43mtravelling_thief_instance\u001b[49m\u001b[38;5;241;43m.\u001b[39;49m\u001b[43mdistance_matrix\u001b[49m\u001b[43m,\u001b[49m\n\u001b[1;32m     51\u001b[0m \u001b[43m                                                \u001b[49m\u001b[43mtravelling_thief_instance\u001b[49m\u001b[38;5;241;43m.\u001b[39;49m\u001b[43mprofit_table\u001b[49m\u001b[43m)\u001b[49m\n\u001b[1;32m     53\u001b[0m \u001b[38;5;28mprint\u001b[39m(\u001b[38;5;124mf\u001b[39m\u001b[38;5;124m\"\u001b[39m\u001b[38;5;124mCost for the tour and packing plan: \u001b[39m\u001b[38;5;132;01m{\u001b[39;00mcost\u001b[38;5;132;01m}\u001b[39;00m\u001b[38;5;124m\"\u001b[39m)\n",
      "Cell \u001b[0;32mIn[58], line 33\u001b[0m, in \u001b[0;36mTravellingThief.calculate_cost\u001b[0;34m(tour, packing_plan, min_speed, max_speed, renting_ratio, distance_matrix, profit_table)\u001b[0m\n\u001b[1;32m     31\u001b[0m     \u001b[38;5;66;03m# Update the knapsack weight and velocity based on packing plan\u001b[39;00m\n\u001b[1;32m     32\u001b[0m     \u001b[38;5;28;01mif\u001b[39;00m packing_plan[current_city \u001b[38;5;241m-\u001b[39m \u001b[38;5;241m1\u001b[39m] \u001b[38;5;241m==\u001b[39m \u001b[38;5;241m1\u001b[39m:\n\u001b[0;32m---> 33\u001b[0m         current_weight \u001b[38;5;241m+\u001b[39m\u001b[38;5;241m=\u001b[39m \u001b[43mprofit_table\u001b[49m\u001b[43m[\u001b[49m\u001b[43mcurrent_city\u001b[49m\u001b[43m \u001b[49m\u001b[38;5;241;43m-\u001b[39;49m\u001b[43m \u001b[49m\u001b[38;5;241;43m1\u001b[39;49m\u001b[43m]\u001b[49m[\u001b[38;5;124m'\u001b[39m\u001b[38;5;124mWeight\u001b[39m\u001b[38;5;124m'\u001b[39m]\n\u001b[1;32m     34\u001b[0m         current_velocity \u001b[38;5;241m=\u001b[39m \u001b[38;5;28mmax\u001b[39m(min_speed, current_velocity \u001b[38;5;241m-\u001b[39m renting_ratio \u001b[38;5;241m*\u001b[39m current_weight)\n\u001b[1;32m     36\u001b[0m \u001b[38;5;28;01mreturn\u001b[39;00m total_time\n",
      "File \u001b[0;32m/opt/homebrew/lib/python3.10/site-packages/pandas/core/frame.py:3893\u001b[0m, in \u001b[0;36mDataFrame.__getitem__\u001b[0;34m(self, key)\u001b[0m\n\u001b[1;32m   3891\u001b[0m \u001b[38;5;28;01mif\u001b[39;00m \u001b[38;5;28mself\u001b[39m\u001b[38;5;241m.\u001b[39mcolumns\u001b[38;5;241m.\u001b[39mnlevels \u001b[38;5;241m>\u001b[39m \u001b[38;5;241m1\u001b[39m:\n\u001b[1;32m   3892\u001b[0m     \u001b[38;5;28;01mreturn\u001b[39;00m \u001b[38;5;28mself\u001b[39m\u001b[38;5;241m.\u001b[39m_getitem_multilevel(key)\n\u001b[0;32m-> 3893\u001b[0m indexer \u001b[38;5;241m=\u001b[39m \u001b[38;5;28;43mself\u001b[39;49m\u001b[38;5;241;43m.\u001b[39;49m\u001b[43mcolumns\u001b[49m\u001b[38;5;241;43m.\u001b[39;49m\u001b[43mget_loc\u001b[49m\u001b[43m(\u001b[49m\u001b[43mkey\u001b[49m\u001b[43m)\u001b[49m\n\u001b[1;32m   3894\u001b[0m \u001b[38;5;28;01mif\u001b[39;00m is_integer(indexer):\n\u001b[1;32m   3895\u001b[0m     indexer \u001b[38;5;241m=\u001b[39m [indexer]\n",
      "File \u001b[0;32m/opt/homebrew/lib/python3.10/site-packages/pandas/core/indexes/base.py:3798\u001b[0m, in \u001b[0;36mIndex.get_loc\u001b[0;34m(self, key)\u001b[0m\n\u001b[1;32m   3793\u001b[0m     \u001b[38;5;28;01mif\u001b[39;00m \u001b[38;5;28misinstance\u001b[39m(casted_key, \u001b[38;5;28mslice\u001b[39m) \u001b[38;5;129;01mor\u001b[39;00m (\n\u001b[1;32m   3794\u001b[0m         \u001b[38;5;28misinstance\u001b[39m(casted_key, abc\u001b[38;5;241m.\u001b[39mIterable)\n\u001b[1;32m   3795\u001b[0m         \u001b[38;5;129;01mand\u001b[39;00m \u001b[38;5;28many\u001b[39m(\u001b[38;5;28misinstance\u001b[39m(x, \u001b[38;5;28mslice\u001b[39m) \u001b[38;5;28;01mfor\u001b[39;00m x \u001b[38;5;129;01min\u001b[39;00m casted_key)\n\u001b[1;32m   3796\u001b[0m     ):\n\u001b[1;32m   3797\u001b[0m         \u001b[38;5;28;01mraise\u001b[39;00m InvalidIndexError(key)\n\u001b[0;32m-> 3798\u001b[0m     \u001b[38;5;28;01mraise\u001b[39;00m \u001b[38;5;167;01mKeyError\u001b[39;00m(key) \u001b[38;5;28;01mfrom\u001b[39;00m \u001b[38;5;21;01merr\u001b[39;00m\n\u001b[1;32m   3799\u001b[0m \u001b[38;5;28;01mexcept\u001b[39;00m \u001b[38;5;167;01mTypeError\u001b[39;00m:\n\u001b[1;32m   3800\u001b[0m     \u001b[38;5;66;03m# If we have a listlike key, _check_indexing_error will raise\u001b[39;00m\n\u001b[1;32m   3801\u001b[0m     \u001b[38;5;66;03m#  InvalidIndexError. Otherwise we fall through and re-raise\u001b[39;00m\n\u001b[1;32m   3802\u001b[0m     \u001b[38;5;66;03m#  the TypeError.\u001b[39;00m\n\u001b[1;32m   3803\u001b[0m     \u001b[38;5;28mself\u001b[39m\u001b[38;5;241m.\u001b[39m_check_indexing_error(key)\n",
      "\u001b[0;31mKeyError\u001b[0m: 0"
     ]
    }
   ],
   "source": [
    "class TravellingThief:\n",
    "    def __init__(self, population_size, dimension, num_items, capacity, min_speed, max_speed, renting_ratio, edge_weight_type, distance_matrix, profit_table):\n",
    "        self.population_size = population_size\n",
    "        self.dimension = dimension\n",
    "        self.num_items = num_items\n",
    "        self.capacity = capacity\n",
    "        self.min_speed = min_speed\n",
    "        self.max_speed = max_speed\n",
    "        self.renting_ratio = renting_ratio\n",
    "        self.edge_weight_type = edge_weight_type\n",
    "        self.distance_matrix = distance_matrix\n",
    "        self.profit_table = profit_table\n",
    "\n",
    "    @staticmethod\n",
    "    def calculate_cost(tour, packing_plan, min_speed, max_speed, renting_ratio, distance_matrix, profit_table):\n",
    "        total_time = 0.0\n",
    "        current_weight = 0\n",
    "\n",
    "        # Initial velocity\n",
    "        current_velocity = max_speed\n",
    "\n",
    "        for i in range(len(tour)):\n",
    "            current_city = tour[i]\n",
    "\n",
    "            # Calculate the travel time to the next city\n",
    "            if i < len(tour) - 1:\n",
    "                next_city = tour[i + 1]\n",
    "                travel_time = distance_matrix[current_city][next_city] / current_velocity\n",
    "                total_time += travel_time\n",
    "\n",
    "            # Update the knapsack weight and velocity based on packing plan\n",
    "            if packing_plan[current_city - 1] == 1:\n",
    "                current_weight += profit_table[current_city - 1]['Weight']\n",
    "                current_velocity = max(min_speed, current_velocity - renting_ratio * current_weight)\n",
    "\n",
    "        return total_time\n",
    "\n",
    "# Example usage\n",
    "travelling_thief_instance = TravellingThief(population_size=4, dimension=280, num_items=279, capacity=25936,\n",
    "                                            min_speed=0.1, max_speed=1.0, renting_ratio=5.61, edge_weight_type='CEIL_2D',\n",
    "                                            distance_matrix=distance_matrix, profit_table=profit_matrix)\n",
    "\n",
    "tour_example = [1, 3, 2, 4]\n",
    "packing_plan_example = [1, 0, 1]\n",
    "\n",
    "cost = travelling_thief_instance.calculate_cost(tour_example, packing_plan_example,\n",
    "                                                travelling_thief_instance.min_speed,\n",
    "                                                travelling_thief_instance.max_speed,\n",
    "                                                travelling_thief_instance.renting_ratio,\n",
    "                                                travelling_thief_instance.distance_matrix,\n",
    "                                                travelling_thief_instance.profit_table)\n",
    "\n",
    "print(f\"Cost for the tour and packing plan: {cost}\")\n"
   ]
  },
  {
   "cell_type": "code",
   "execution_count": 1,
   "metadata": {},
   "outputs": [
    {
     "name": "stdout",
     "output_type": "stream",
     "text": [
      "Tour Phenotype: [1 2 1 3]\n",
      "Packing Plan Phenotype: [1 0 1]\n"
     ]
    }
   ],
   "source": [
    "import numpy as np\n",
    "\n",
    "# Given vector\n",
    "genotype_vector = [0.5, 0.1, 0.8, 0.6, 0.1, 0.9]\n",
    "\n",
    "# Determine the length of the tour (n) and the length of the packing plan (m)\n",
    "n = 4  # Assuming the tour has 4 cities\n",
    "m = 3  # Assuming there are 3 items in the packing plan\n",
    "\n",
    "# Split the genotype vector into two parts\n",
    "tour_part = np.array(genotype_vector[:n-1])\n",
    "packing_plan_part = np.array(genotype_vector[n-1:])\n",
    "\n",
    "# Decode the tour part to a permutation vector\n",
    "tour_permutation = np.argsort(tour_part) + 1\n",
    "tour_permutation = np.insert(tour_permutation, 0, 1)  # Insert the starting city 1\n",
    "\n",
    "# Decode the packing plan part to a binary decision vector\n",
    "packing_decision_vector = (packing_plan_part > 0.5).astype(int)\n",
    "\n",
    "# Display the results\n",
    "print(\"Tour Phenotype:\", tour_permutation)\n",
    "print(\"Packing Plan Phenotype:\", packing_decision_vector)\n"
   ]
  },
  {
   "cell_type": "code",
   "execution_count": 2,
   "metadata": {},
   "outputs": [
    {
     "ename": "NameError",
     "evalue": "name 'variables' is not defined",
     "output_type": "error",
     "traceback": [
      "\u001b[0;31m---------------------------------------------------------------------------\u001b[0m",
      "\u001b[0;31mNameError\u001b[0m                                 Traceback (most recent call last)",
      "Cell \u001b[0;32mIn[2], line 1\u001b[0m\n\u001b[0;32m----> 1\u001b[0m \u001b[43mvariables\u001b[49m\n",
      "\u001b[0;31mNameError\u001b[0m: name 'variables' is not defined"
     ]
    }
   ],
   "source": [
    "        print(i,current_weight,current_velocity,distance,time_to_travel)\n"
   ]
  },
  {
   "cell_type": "code",
   "execution_count": 13,
   "metadata": {},
   "outputs": [
    {
     "ename": "NameError",
     "evalue": "name 'packing_plan' is not defined",
     "output_type": "error",
     "traceback": [
      "\u001b[0;31m---------------------------------------------------------------------------\u001b[0m",
      "\u001b[0;31mNameError\u001b[0m                                 Traceback (most recent call last)",
      "Cell \u001b[0;32mIn[13], line 1\u001b[0m\n\u001b[0;32m----> 1\u001b[0m \u001b[43mpacking_plan\u001b[49m\n",
      "\u001b[0;31mNameError\u001b[0m: name 'packing_plan' is not defined"
     ]
    }
   ],
   "source": [
    "packing_plan\n"
   ]
  },
  {
   "cell_type": "code",
   "execution_count": null,
   "metadata": {},
   "outputs": [],
   "source": []
  }
 ],
 "metadata": {
  "kernelspec": {
   "display_name": "Python 3",
   "language": "python",
   "name": "python3"
  },
  "language_info": {
   "codemirror_mode": {
    "name": "ipython",
    "version": 3
   },
   "file_extension": ".py",
   "mimetype": "text/x-python",
   "name": "python",
   "nbconvert_exporter": "python",
   "pygments_lexer": "ipython3",
   "version": "3.10.13"
  }
 },
 "nbformat": 4,
 "nbformat_minor": 2
}
