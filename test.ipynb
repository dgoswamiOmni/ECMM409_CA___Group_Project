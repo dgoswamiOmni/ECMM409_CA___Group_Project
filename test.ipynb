{
 "cells": [
  {
   "cell_type": "code",
   "execution_count": 14,
   "metadata": {},
   "outputs": [
    {
     "name": "stdout",
     "output_type": "stream",
     "text": [
      "Variables: {'problem_name': 'Test', 'knapsack_data_type': 'unknown', 'dimension': 4, 'num_items': 3, 'knapsack_capacity': 80, 'min_speed': 0.1, 'max_speed': 1.0, 'renting_ratio': 1.516, 'edge_weight_type': 'CEIL_2D'}\n",
      "Node Coord:    Index    X    Y\n",
      "0      1  0.0  0.0\n",
      "1      2  4.0  0.0\n",
      "2      3  8.0  3.0\n",
      "3      4  0.0  3.0\n",
      "Profit Matrix:    Index  Profit  Weight  Assigned_Node\n",
      "0      2      34      30              2\n",
      "1      3      40      40              3\n",
      "2      4      25      21              4\n"
     ]
    }
   ],
   "source": [
    "import concurrent.futures\n",
    "import pandas as pd\n",
    "def parse_variables(lines):\n",
    "    variables = {}\n",
    "    for line in lines:\n",
    "        if line.startswith(\"PROBLEM NAME:\"):\n",
    "            variables['problem_name'] = line.split(':')[1].strip()\n",
    "        elif line.startswith(\"KNAPSACK DATA TYPE:\"):\n",
    "            variables['knapsack_data_type'] = line.split(':')[1].strip()\n",
    "        elif line.startswith(\"DIMENSION:\"):\n",
    "            variables['dimension'] = int(line.split(':')[1].strip())\n",
    "        elif line.startswith(\"NUMBER OF ITEMS:\"):\n",
    "            variables['num_items'] = int(line.split(':')[1].strip())\n",
    "        elif line.startswith(\"CAPACITY OF KNAPSACK:\"):\n",
    "            variables['knapsack_capacity'] = int(line.split(':')[1].strip())\n",
    "        elif line.startswith(\"MIN SPEED:\"):\n",
    "            variables['min_speed'] = float(line.split(':')[1].strip())\n",
    "        elif line.startswith(\"MAX SPEED:\"):\n",
    "            variables['max_speed'] = float(line.split(':')[1].strip())\n",
    "        elif line.startswith(\"RENTING RATIO:\"):\n",
    "            variables['renting_ratio'] = float(line.split(':')[1].strip())\n",
    "        elif line.startswith(\"EDGE_WEIGHT_TYPE:\"):\n",
    "            variables['edge_weight_type'] = line.split(':')[1].strip()\n",
    "    return variables\n",
    "\n",
    "def parse_node_coord(lines, start_line, dimension):\n",
    "    data = []\n",
    "    for line in lines[start_line:start_line + dimension]:\n",
    "        parts = line.split()\n",
    "        index = int(parts[0])\n",
    "        x = float(parts[1])\n",
    "        y = float(parts[2])\n",
    "        data.append({'Index': index, 'X': x, 'Y': y})\n",
    "    return pd.DataFrame(data)\n",
    "\n",
    "def parse_item_section(lines, start_line, dimension):\n",
    "    data = []\n",
    "    for line in lines[start_line:start_line + dimension]:\n",
    "        index, profit, weight, assigned_node = map(int, line.split())\n",
    "        data.append({'Index': index, 'Profit': profit, 'Weight': weight, 'Assigned_Node': assigned_node})\n",
    "    return pd.DataFrame(data)\n",
    "\n",
    "def parse_file_parallel(lines, dimension):\n",
    "    with concurrent.futures.ThreadPoolExecutor() as executor:\n",
    "        future_node_coord = executor.submit(parse_node_coord, lines, 10, dimension)\n",
    "        future_profit_matrix = executor.submit(parse_item_section, lines, 10 + dimension + 1, dimension)\n",
    "\n",
    "    node_coord = future_node_coord.result()\n",
    "    profit_matrix = future_profit_matrix.result()\n",
    "\n",
    "    return node_coord, profit_matrix\n",
    "\n",
    "\n",
    "# Example usage:\n",
    "\n",
    "with open('test-example-n4.txt', 'r') as file:\n",
    "    lines = file.readlines()\n",
    "\n",
    "variables = parse_variables(lines)\n",
    "node_coord, profit_matrix = parse_file_parallel(lines, variables['dimension'])\n",
    "\n",
    "print(\"Variables:\", variables)\n",
    "print(\"Node Coord:\", node_coord)\n",
    "print(\"Profit Matrix:\", profit_matrix)\n"
   ]
  },
  {
   "cell_type": "code",
   "execution_count": 15,
   "metadata": {},
   "outputs": [
    {
     "data": {
      "text/plain": [
       "{'problem_name': 'Test',\n",
       " 'knapsack_data_type': 'unknown',\n",
       " 'dimension': 4,\n",
       " 'num_items': 3,\n",
       " 'knapsack_capacity': 80,\n",
       " 'min_speed': 0.1,\n",
       " 'max_speed': 1.0,\n",
       " 'renting_ratio': 1.516,\n",
       " 'edge_weight_type': 'CEIL_2D'}"
      ]
     },
     "execution_count": 15,
     "metadata": {},
     "output_type": "execute_result"
    }
   ],
   "source": [
    "variables"
   ]
  },
  {
   "cell_type": "code",
   "execution_count": 16,
   "metadata": {},
   "outputs": [
    {
     "data": {
      "text/html": [
       "<div>\n",
       "<style scoped>\n",
       "    .dataframe tbody tr th:only-of-type {\n",
       "        vertical-align: middle;\n",
       "    }\n",
       "\n",
       "    .dataframe tbody tr th {\n",
       "        vertical-align: top;\n",
       "    }\n",
       "\n",
       "    .dataframe thead th {\n",
       "        text-align: right;\n",
       "    }\n",
       "</style>\n",
       "<table border=\"1\" class=\"dataframe\">\n",
       "  <thead>\n",
       "    <tr style=\"text-align: right;\">\n",
       "      <th></th>\n",
       "      <th>Index</th>\n",
       "      <th>X</th>\n",
       "      <th>Y</th>\n",
       "    </tr>\n",
       "  </thead>\n",
       "  <tbody>\n",
       "    <tr>\n",
       "      <th>0</th>\n",
       "      <td>1</td>\n",
       "      <td>0.0</td>\n",
       "      <td>0.0</td>\n",
       "    </tr>\n",
       "    <tr>\n",
       "      <th>1</th>\n",
       "      <td>2</td>\n",
       "      <td>4.0</td>\n",
       "      <td>0.0</td>\n",
       "    </tr>\n",
       "    <tr>\n",
       "      <th>2</th>\n",
       "      <td>3</td>\n",
       "      <td>8.0</td>\n",
       "      <td>3.0</td>\n",
       "    </tr>\n",
       "    <tr>\n",
       "      <th>3</th>\n",
       "      <td>4</td>\n",
       "      <td>0.0</td>\n",
       "      <td>3.0</td>\n",
       "    </tr>\n",
       "  </tbody>\n",
       "</table>\n",
       "</div>"
      ],
      "text/plain": [
       "   Index    X    Y\n",
       "0      1  0.0  0.0\n",
       "1      2  4.0  0.0\n",
       "2      3  8.0  3.0\n",
       "3      4  0.0  3.0"
      ]
     },
     "execution_count": 16,
     "metadata": {},
     "output_type": "execute_result"
    }
   ],
   "source": [
    "node_coord"
   ]
  },
  {
   "cell_type": "code",
   "execution_count": 17,
   "metadata": {},
   "outputs": [],
   "source": [
    "profit_table=profit_matrix"
   ]
  },
  {
   "cell_type": "code",
   "execution_count": 18,
   "metadata": {},
   "outputs": [],
   "source": [
    "import numpy as np\n",
    "\n",
    "def calculate_distance_matrix(node_coord):\n",
    "    coordinates = node_coord[['X', 'Y']].values\n",
    "    x, y = np.meshgrid(coordinates[:, 0], coordinates[:, 1])\n",
    "\n",
    "    distance_matrix = np.sqrt((x - x.T)**2 + (y - y.T)**2)\n",
    "    \n",
    "    return distance_matrix\n"
   ]
  },
  {
   "cell_type": "code",
   "execution_count": 19,
   "metadata": {},
   "outputs": [],
   "source": [
    "distance_matrix=calculate_distance_matrix(node_coord)"
   ]
  },
  {
   "cell_type": "code",
   "execution_count": 20,
   "metadata": {},
   "outputs": [
    {
     "data": {
      "text/plain": [
       "array([[0.        , 4.        , 8.54400375, 3.        ],\n",
       "       [4.        , 0.        , 5.        , 5.        ],\n",
       "       [8.54400375, 5.        , 0.        , 8.        ],\n",
       "       [3.        , 5.        , 8.        , 0.        ]])"
      ]
     },
     "execution_count": 20,
     "metadata": {},
     "output_type": "execute_result"
    }
   ],
   "source": [
    "distance_matrix"
   ]
  },
  {
   "cell_type": "code",
   "execution_count": 21,
   "metadata": {},
   "outputs": [
    {
     "data": {
      "text/html": [
       "<div>\n",
       "<style scoped>\n",
       "    .dataframe tbody tr th:only-of-type {\n",
       "        vertical-align: middle;\n",
       "    }\n",
       "\n",
       "    .dataframe tbody tr th {\n",
       "        vertical-align: top;\n",
       "    }\n",
       "\n",
       "    .dataframe thead th {\n",
       "        text-align: right;\n",
       "    }\n",
       "</style>\n",
       "<table border=\"1\" class=\"dataframe\">\n",
       "  <thead>\n",
       "    <tr style=\"text-align: right;\">\n",
       "      <th></th>\n",
       "      <th>Index</th>\n",
       "      <th>Profit</th>\n",
       "      <th>Weight</th>\n",
       "      <th>Assigned_Node</th>\n",
       "    </tr>\n",
       "  </thead>\n",
       "  <tbody>\n",
       "    <tr>\n",
       "      <th>0</th>\n",
       "      <td>2</td>\n",
       "      <td>34</td>\n",
       "      <td>30</td>\n",
       "      <td>2</td>\n",
       "    </tr>\n",
       "    <tr>\n",
       "      <th>1</th>\n",
       "      <td>3</td>\n",
       "      <td>40</td>\n",
       "      <td>40</td>\n",
       "      <td>3</td>\n",
       "    </tr>\n",
       "    <tr>\n",
       "      <th>2</th>\n",
       "      <td>4</td>\n",
       "      <td>25</td>\n",
       "      <td>21</td>\n",
       "      <td>4</td>\n",
       "    </tr>\n",
       "  </tbody>\n",
       "</table>\n",
       "</div>"
      ],
      "text/plain": [
       "   Index  Profit  Weight  Assigned_Node\n",
       "0      2      34      30              2\n",
       "1      3      40      40              3\n",
       "2      4      25      21              4"
      ]
     },
     "execution_count": 21,
     "metadata": {},
     "output_type": "execute_result"
    }
   ],
   "source": [
    "profit_table"
   ]
  },
  {
   "cell_type": "code",
   "execution_count": 26,
   "metadata": {},
   "outputs": [],
   "source": [
    "packing_plan_example=[1,0,1]\n"
   ]
  },
  {
   "cell_type": "code",
   "execution_count": 27,
   "metadata": {},
   "outputs": [],
   "source": [
    "profit_table['Picked'] = packing_plan_example\n"
   ]
  },
  {
   "cell_type": "code",
   "execution_count": 31,
   "metadata": {},
   "outputs": [],
   "source": [
    "profit_table.to_clipboard()"
   ]
  },
  {
   "cell_type": "code",
   "execution_count": 22,
   "metadata": {},
   "outputs": [
    {
     "data": {
      "text/html": [
       "<div>\n",
       "<style scoped>\n",
       "    .dataframe tbody tr th:only-of-type {\n",
       "        vertical-align: middle;\n",
       "    }\n",
       "\n",
       "    .dataframe tbody tr th {\n",
       "        vertical-align: top;\n",
       "    }\n",
       "\n",
       "    .dataframe thead th {\n",
       "        text-align: right;\n",
       "    }\n",
       "</style>\n",
       "<table border=\"1\" class=\"dataframe\">\n",
       "  <thead>\n",
       "    <tr style=\"text-align: right;\">\n",
       "      <th></th>\n",
       "      <th>0</th>\n",
       "      <th>1</th>\n",
       "      <th>2</th>\n",
       "      <th>3</th>\n",
       "    </tr>\n",
       "  </thead>\n",
       "  <tbody>\n",
       "    <tr>\n",
       "      <th>0</th>\n",
       "      <td>0.000000</td>\n",
       "      <td>4.0</td>\n",
       "      <td>8.544004</td>\n",
       "      <td>3.0</td>\n",
       "    </tr>\n",
       "    <tr>\n",
       "      <th>1</th>\n",
       "      <td>4.000000</td>\n",
       "      <td>0.0</td>\n",
       "      <td>5.000000</td>\n",
       "      <td>5.0</td>\n",
       "    </tr>\n",
       "    <tr>\n",
       "      <th>2</th>\n",
       "      <td>8.544004</td>\n",
       "      <td>5.0</td>\n",
       "      <td>0.000000</td>\n",
       "      <td>8.0</td>\n",
       "    </tr>\n",
       "    <tr>\n",
       "      <th>3</th>\n",
       "      <td>3.000000</td>\n",
       "      <td>5.0</td>\n",
       "      <td>8.000000</td>\n",
       "      <td>0.0</td>\n",
       "    </tr>\n",
       "  </tbody>\n",
       "</table>\n",
       "</div>"
      ],
      "text/plain": [
       "          0    1         2    3\n",
       "0  0.000000  4.0  8.544004  3.0\n",
       "1  4.000000  0.0  5.000000  5.0\n",
       "2  8.544004  5.0  0.000000  8.0\n",
       "3  3.000000  5.0  8.000000  0.0"
      ]
     },
     "execution_count": 22,
     "metadata": {},
     "output_type": "execute_result"
    }
   ],
   "source": [
    "pd.DataFrame(distance_matrix)"
   ]
  },
  {
   "cell_type": "code",
   "execution_count": 23,
   "metadata": {},
   "outputs": [
    {
     "data": {
      "text/html": [
       "<div>\n",
       "<style scoped>\n",
       "    .dataframe tbody tr th:only-of-type {\n",
       "        vertical-align: middle;\n",
       "    }\n",
       "\n",
       "    .dataframe tbody tr th {\n",
       "        vertical-align: top;\n",
       "    }\n",
       "\n",
       "    .dataframe thead th {\n",
       "        text-align: right;\n",
       "    }\n",
       "</style>\n",
       "<table border=\"1\" class=\"dataframe\">\n",
       "  <thead>\n",
       "    <tr style=\"text-align: right;\">\n",
       "      <th></th>\n",
       "      <th>0</th>\n",
       "      <th>1</th>\n",
       "      <th>2</th>\n",
       "      <th>3</th>\n",
       "    </tr>\n",
       "  </thead>\n",
       "  <tbody>\n",
       "    <tr>\n",
       "      <th>0</th>\n",
       "      <td>0.000000</td>\n",
       "      <td>4.0</td>\n",
       "      <td>8.544004</td>\n",
       "      <td>3.0</td>\n",
       "    </tr>\n",
       "    <tr>\n",
       "      <th>1</th>\n",
       "      <td>4.000000</td>\n",
       "      <td>0.0</td>\n",
       "      <td>5.000000</td>\n",
       "      <td>5.0</td>\n",
       "    </tr>\n",
       "    <tr>\n",
       "      <th>2</th>\n",
       "      <td>8.544004</td>\n",
       "      <td>5.0</td>\n",
       "      <td>0.000000</td>\n",
       "      <td>8.0</td>\n",
       "    </tr>\n",
       "    <tr>\n",
       "      <th>3</th>\n",
       "      <td>3.000000</td>\n",
       "      <td>5.0</td>\n",
       "      <td>8.000000</td>\n",
       "      <td>0.0</td>\n",
       "    </tr>\n",
       "  </tbody>\n",
       "</table>\n",
       "</div>"
      ],
      "text/plain": [
       "          0    1         2    3\n",
       "0  0.000000  4.0  8.544004  3.0\n",
       "1  4.000000  0.0  5.000000  5.0\n",
       "2  8.544004  5.0  0.000000  8.0\n",
       "3  3.000000  5.0  8.000000  0.0"
      ]
     },
     "execution_count": 23,
     "metadata": {},
     "output_type": "execute_result"
    }
   ],
   "source": [
    "pd.DataFrame(calculate_distance_matrix(node_coord))"
   ]
  },
  {
   "cell_type": "code",
   "execution_count": 24,
   "metadata": {},
   "outputs": [],
   "source": [
    "tour_example=[1,3,2,4]\n",
    "packing_plan_example=[1,0,1]"
   ]
  },
  {
   "cell_type": "code",
   "execution_count": 80,
   "metadata": {},
   "outputs": [
    {
     "data": {
      "text/plain": [
       "{'dimension': 4,\n",
       " 'num_items': 3,\n",
       " 'capacity': 80,\n",
       " 'min_speed': 0.1,\n",
       " 'max_speed': 1.0,\n",
       " 'renting_ratio': 1.516,\n",
       " 'edge_weight_type': 'CEIL_2D'}"
      ]
     },
     "execution_count": 80,
     "metadata": {},
     "output_type": "execute_result"
    }
   ],
   "source": [
    "variables"
   ]
  },
  {
   "cell_type": "code",
   "execution_count": 88,
   "metadata": {},
   "outputs": [],
   "source": [
    "def calculate_current_velocity(weight, capacity, min_speed, max_speed):\n",
    "    if weight <= capacity:\n",
    "        return max_speed - (weight / capacity) * (max_speed - min_speed)\n",
    "    else:\n",
    "        return min_speed\n"
   ]
  },
  {
   "cell_type": "code",
   "execution_count": 102,
   "metadata": {},
   "outputs": [],
   "source": [
    "def calculate_cost(tour, packing_plan, variables,distance_matrix,profit_table):\n",
    "    dimension = variables['dimension']\n",
    "    max_speed = variables['max_speed']\n",
    "\n",
    "    current_weight = 0\n",
    "    total_time = 0\n",
    "    current_velocity = max_speed\n",
    "\n",
    "    for i in range(dimension):\n",
    "        # Calculate the distance between consecutive cities\n",
    "        distance = distance_matrix[tour[i % dimension]][tour[(i + 1) % dimension]]\n",
    "\n",
    "        # Calculate the time taken to travel the distance\n",
    "        time_to_travel = distance / current_velocity\n",
    "        total_time += time_to_travel\n",
    "\n",
    "        # Update current weight based on the packing plan\n",
    "        current_weight += packing_plan[i % dimension] * profit_table['Weight'][i]\n",
    "\n",
    "        # Calculate the current velocity\n",
    "        current_velocity = calculate_current_velocity(current_weight, variables['capacity'],\n",
    "                                                      variables['min_speed'], variables['max_speed'])\n",
    "\n",
    "    return total_time\n"
   ]
  },
  {
   "cell_type": "code",
   "execution_count": 103,
   "metadata": {},
   "outputs": [
    {
     "ename": "IndexError",
     "evalue": "index 4 is out of bounds for axis 0 with size 4",
     "output_type": "error",
     "traceback": [
      "\u001b[0;31m---------------------------------------------------------------------------\u001b[0m",
      "\u001b[0;31mIndexError\u001b[0m                                Traceback (most recent call last)",
      "Cell \u001b[0;32mIn[103], line 1\u001b[0m\n\u001b[0;32m----> 1\u001b[0m \u001b[43mcalculate_cost\u001b[49m\u001b[43m(\u001b[49m\u001b[43mtour\u001b[49m\u001b[38;5;241;43m=\u001b[39;49m\u001b[43mtour_example\u001b[49m\u001b[43m,\u001b[49m\u001b[43mpacking_plan\u001b[49m\u001b[38;5;241;43m=\u001b[39;49m\u001b[43mpacking_plan_example\u001b[49m\u001b[43m,\u001b[49m\u001b[43mvariables\u001b[49m\u001b[38;5;241;43m=\u001b[39;49m\u001b[43mvariables\u001b[49m\u001b[43m,\u001b[49m\u001b[43mdistance_matrix\u001b[49m\u001b[38;5;241;43m=\u001b[39;49m\u001b[43mdistance_matrix\u001b[49m\u001b[43m,\u001b[49m\u001b[43mprofit_table\u001b[49m\u001b[38;5;241;43m=\u001b[39;49m\u001b[43mprofit_table\u001b[49m\u001b[43m)\u001b[49m\n",
      "Cell \u001b[0;32mIn[102], line 11\u001b[0m, in \u001b[0;36mcalculate_cost\u001b[0;34m(tour, packing_plan, variables, distance_matrix, profit_table)\u001b[0m\n\u001b[1;32m      7\u001b[0m current_velocity \u001b[38;5;241m=\u001b[39m max_speed\n\u001b[1;32m      9\u001b[0m \u001b[38;5;28;01mfor\u001b[39;00m i \u001b[38;5;129;01min\u001b[39;00m \u001b[38;5;28mrange\u001b[39m(dimension):\n\u001b[1;32m     10\u001b[0m     \u001b[38;5;66;03m# Calculate the distance between consecutive cities\u001b[39;00m\n\u001b[0;32m---> 11\u001b[0m     distance \u001b[38;5;241m=\u001b[39m \u001b[43mdistance_matrix\u001b[49m\u001b[43m[\u001b[49m\u001b[43mtour\u001b[49m\u001b[43m[\u001b[49m\u001b[43mi\u001b[49m\u001b[43m \u001b[49m\u001b[38;5;241;43m%\u001b[39;49m\u001b[43m \u001b[49m\u001b[43mdimension\u001b[49m\u001b[43m]\u001b[49m\u001b[43m]\u001b[49m\u001b[43m[\u001b[49m\u001b[43mtour\u001b[49m\u001b[43m[\u001b[49m\u001b[43m(\u001b[49m\u001b[43mi\u001b[49m\u001b[43m \u001b[49m\u001b[38;5;241;43m+\u001b[39;49m\u001b[43m \u001b[49m\u001b[38;5;241;43m1\u001b[39;49m\u001b[43m)\u001b[49m\u001b[43m \u001b[49m\u001b[38;5;241;43m%\u001b[39;49m\u001b[43m \u001b[49m\u001b[43mdimension\u001b[49m\u001b[43m]\u001b[49m\u001b[43m]\u001b[49m\n\u001b[1;32m     13\u001b[0m     \u001b[38;5;66;03m# Calculate the time taken to travel the distance\u001b[39;00m\n\u001b[1;32m     14\u001b[0m     time_to_travel \u001b[38;5;241m=\u001b[39m distance \u001b[38;5;241m/\u001b[39m current_velocity\n",
      "\u001b[0;31mIndexError\u001b[0m: index 4 is out of bounds for axis 0 with size 4"
     ]
    }
   ],
   "source": [
    "calculate_cost(tour=tour_example,packing_plan=packing_plan_example,variables=variables,distance_matrix=distance_matrix,profit_table=profit_table)"
   ]
  },
  {
   "cell_type": "code",
   "execution_count": 81,
   "metadata": {},
   "outputs": [],
   "source": [
    "def calculate_cost(tour, packing_plan, min_speed, max_speed, renting_ratio, distance_matrix, profit_table):\n",
    "        total_time = 0.0\n",
    "        current_weight = 0\n",
    "\n",
    "        # Initial velocity\n",
    "        current_velocity = max_speed\n",
    "\n",
    "        for i in range(len(tour)):\n",
    "            current_city = tour[i]\n",
    "\n",
    "            # Calculate the travel time to the next city\n",
    "            if i < len(tour) - 1:\n",
    "                next_city = tour[i + 1]\n",
    "                travel_time = distance_matrix[current_city][next_city] / current_velocity\n",
    "                total_time += travel_time\n",
    "\n",
    "            # Update the knapsack weight and velocity based on packing plan\n",
    "            if packing_plan[current_city - 1] == 1:\n",
    "                current_weight += profit_table[current_city - 1]['Weight']\n",
    "                current_velocity = max(min_speed, current_velocity - renting_ratio * current_weight)\n",
    "\n",
    "        return total_time"
   ]
  },
  {
   "cell_type": "code",
   "execution_count": 82,
   "metadata": {},
   "outputs": [
    {
     "data": {
      "text/plain": [
       "{'dimension': 4,\n",
       " 'num_items': 3,\n",
       " 'capacity': 80,\n",
       " 'min_speed': 0.1,\n",
       " 'max_speed': 1.0,\n",
       " 'renting_ratio': 1.516,\n",
       " 'edge_weight_type': 'CEIL_2D'}"
      ]
     },
     "execution_count": 82,
     "metadata": {},
     "output_type": "execute_result"
    }
   ],
   "source": [
    "variables"
   ]
  },
  {
   "cell_type": "code",
   "execution_count": 85,
   "metadata": {},
   "outputs": [
    {
     "ename": "KeyError",
     "evalue": "0",
     "output_type": "error",
     "traceback": [
      "\u001b[0;31m---------------------------------------------------------------------------\u001b[0m",
      "\u001b[0;31mKeyError\u001b[0m                                  Traceback (most recent call last)",
      "File \u001b[0;32m/opt/homebrew/lib/python3.10/site-packages/pandas/core/indexes/base.py:3791\u001b[0m, in \u001b[0;36mIndex.get_loc\u001b[0;34m(self, key)\u001b[0m\n\u001b[1;32m   3790\u001b[0m \u001b[38;5;28;01mtry\u001b[39;00m:\n\u001b[0;32m-> 3791\u001b[0m     \u001b[38;5;28;01mreturn\u001b[39;00m \u001b[38;5;28;43mself\u001b[39;49m\u001b[38;5;241;43m.\u001b[39;49m\u001b[43m_engine\u001b[49m\u001b[38;5;241;43m.\u001b[39;49m\u001b[43mget_loc\u001b[49m\u001b[43m(\u001b[49m\u001b[43mcasted_key\u001b[49m\u001b[43m)\u001b[49m\n\u001b[1;32m   3792\u001b[0m \u001b[38;5;28;01mexcept\u001b[39;00m \u001b[38;5;167;01mKeyError\u001b[39;00m \u001b[38;5;28;01mas\u001b[39;00m err:\n",
      "File \u001b[0;32mindex.pyx:152\u001b[0m, in \u001b[0;36mpandas._libs.index.IndexEngine.get_loc\u001b[0;34m()\u001b[0m\n",
      "File \u001b[0;32mindex.pyx:181\u001b[0m, in \u001b[0;36mpandas._libs.index.IndexEngine.get_loc\u001b[0;34m()\u001b[0m\n",
      "File \u001b[0;32mpandas/_libs/hashtable_class_helper.pxi:7080\u001b[0m, in \u001b[0;36mpandas._libs.hashtable.PyObjectHashTable.get_item\u001b[0;34m()\u001b[0m\n",
      "File \u001b[0;32mpandas/_libs/hashtable_class_helper.pxi:7088\u001b[0m, in \u001b[0;36mpandas._libs.hashtable.PyObjectHashTable.get_item\u001b[0;34m()\u001b[0m\n",
      "\u001b[0;31mKeyError\u001b[0m: 0",
      "\nThe above exception was the direct cause of the following exception:\n",
      "\u001b[0;31mKeyError\u001b[0m                                  Traceback (most recent call last)",
      "Cell \u001b[0;32mIn[85], line 1\u001b[0m\n\u001b[0;32m----> 1\u001b[0m \u001b[43mcalculate_cost\u001b[49m\u001b[43m(\u001b[49m\u001b[43mtour_example\u001b[49m\u001b[43m,\u001b[49m\u001b[43m \u001b[49m\u001b[43mpacking_plan_example\u001b[49m\u001b[43m,\u001b[49m\n\u001b[1;32m      2\u001b[0m \u001b[43m                                                \u001b[49m\u001b[43mvariables\u001b[49m\u001b[43m[\u001b[49m\u001b[38;5;124;43m'\u001b[39;49m\u001b[38;5;124;43mmin_speed\u001b[39;49m\u001b[38;5;124;43m'\u001b[39;49m\u001b[43m]\u001b[49m\u001b[43m,\u001b[49m\n\u001b[1;32m      3\u001b[0m \u001b[43m                                                \u001b[49m\u001b[43mvariables\u001b[49m\u001b[43m[\u001b[49m\u001b[38;5;124;43m'\u001b[39;49m\u001b[38;5;124;43mmax_speed\u001b[39;49m\u001b[38;5;124;43m'\u001b[39;49m\u001b[43m]\u001b[49m\u001b[43m,\u001b[49m\n\u001b[1;32m      4\u001b[0m \u001b[43m                                                \u001b[49m\u001b[43mvariables\u001b[49m\u001b[43m[\u001b[49m\u001b[38;5;124;43m'\u001b[39;49m\u001b[38;5;124;43mrenting_ratio\u001b[39;49m\u001b[38;5;124;43m'\u001b[39;49m\u001b[43m]\u001b[49m\u001b[43m,\u001b[49m\n\u001b[1;32m      5\u001b[0m \u001b[43m                                                \u001b[49m\u001b[43mdistance_matrix\u001b[49m\u001b[43m,\u001b[49m\n\u001b[1;32m      6\u001b[0m \u001b[43m                                                \u001b[49m\u001b[43mprofit_table\u001b[49m\u001b[43m)\u001b[49m\n",
      "Cell \u001b[0;32mIn[81], line 19\u001b[0m, in \u001b[0;36mcalculate_cost\u001b[0;34m(tour, packing_plan, min_speed, max_speed, renting_ratio, distance_matrix, profit_table)\u001b[0m\n\u001b[1;32m     17\u001b[0m     \u001b[38;5;66;03m# Update the knapsack weight and velocity based on packing plan\u001b[39;00m\n\u001b[1;32m     18\u001b[0m     \u001b[38;5;28;01mif\u001b[39;00m packing_plan[current_city \u001b[38;5;241m-\u001b[39m \u001b[38;5;241m1\u001b[39m] \u001b[38;5;241m==\u001b[39m \u001b[38;5;241m1\u001b[39m:\n\u001b[0;32m---> 19\u001b[0m         current_weight \u001b[38;5;241m+\u001b[39m\u001b[38;5;241m=\u001b[39m \u001b[43mprofit_table\u001b[49m\u001b[43m[\u001b[49m\u001b[43mcurrent_city\u001b[49m\u001b[43m \u001b[49m\u001b[38;5;241;43m-\u001b[39;49m\u001b[43m \u001b[49m\u001b[38;5;241;43m1\u001b[39;49m\u001b[43m]\u001b[49m[\u001b[38;5;124m'\u001b[39m\u001b[38;5;124mWeight\u001b[39m\u001b[38;5;124m'\u001b[39m]\n\u001b[1;32m     20\u001b[0m         current_velocity \u001b[38;5;241m=\u001b[39m \u001b[38;5;28mmax\u001b[39m(min_speed, current_velocity \u001b[38;5;241m-\u001b[39m renting_ratio \u001b[38;5;241m*\u001b[39m current_weight)\n\u001b[1;32m     22\u001b[0m \u001b[38;5;28;01mreturn\u001b[39;00m total_time\n",
      "File \u001b[0;32m/opt/homebrew/lib/python3.10/site-packages/pandas/core/frame.py:3893\u001b[0m, in \u001b[0;36mDataFrame.__getitem__\u001b[0;34m(self, key)\u001b[0m\n\u001b[1;32m   3891\u001b[0m \u001b[38;5;28;01mif\u001b[39;00m \u001b[38;5;28mself\u001b[39m\u001b[38;5;241m.\u001b[39mcolumns\u001b[38;5;241m.\u001b[39mnlevels \u001b[38;5;241m>\u001b[39m \u001b[38;5;241m1\u001b[39m:\n\u001b[1;32m   3892\u001b[0m     \u001b[38;5;28;01mreturn\u001b[39;00m \u001b[38;5;28mself\u001b[39m\u001b[38;5;241m.\u001b[39m_getitem_multilevel(key)\n\u001b[0;32m-> 3893\u001b[0m indexer \u001b[38;5;241m=\u001b[39m \u001b[38;5;28;43mself\u001b[39;49m\u001b[38;5;241;43m.\u001b[39;49m\u001b[43mcolumns\u001b[49m\u001b[38;5;241;43m.\u001b[39;49m\u001b[43mget_loc\u001b[49m\u001b[43m(\u001b[49m\u001b[43mkey\u001b[49m\u001b[43m)\u001b[49m\n\u001b[1;32m   3894\u001b[0m \u001b[38;5;28;01mif\u001b[39;00m is_integer(indexer):\n\u001b[1;32m   3895\u001b[0m     indexer \u001b[38;5;241m=\u001b[39m [indexer]\n",
      "File \u001b[0;32m/opt/homebrew/lib/python3.10/site-packages/pandas/core/indexes/base.py:3798\u001b[0m, in \u001b[0;36mIndex.get_loc\u001b[0;34m(self, key)\u001b[0m\n\u001b[1;32m   3793\u001b[0m     \u001b[38;5;28;01mif\u001b[39;00m \u001b[38;5;28misinstance\u001b[39m(casted_key, \u001b[38;5;28mslice\u001b[39m) \u001b[38;5;129;01mor\u001b[39;00m (\n\u001b[1;32m   3794\u001b[0m         \u001b[38;5;28misinstance\u001b[39m(casted_key, abc\u001b[38;5;241m.\u001b[39mIterable)\n\u001b[1;32m   3795\u001b[0m         \u001b[38;5;129;01mand\u001b[39;00m \u001b[38;5;28many\u001b[39m(\u001b[38;5;28misinstance\u001b[39m(x, \u001b[38;5;28mslice\u001b[39m) \u001b[38;5;28;01mfor\u001b[39;00m x \u001b[38;5;129;01min\u001b[39;00m casted_key)\n\u001b[1;32m   3796\u001b[0m     ):\n\u001b[1;32m   3797\u001b[0m         \u001b[38;5;28;01mraise\u001b[39;00m InvalidIndexError(key)\n\u001b[0;32m-> 3798\u001b[0m     \u001b[38;5;28;01mraise\u001b[39;00m \u001b[38;5;167;01mKeyError\u001b[39;00m(key) \u001b[38;5;28;01mfrom\u001b[39;00m \u001b[38;5;21;01merr\u001b[39;00m\n\u001b[1;32m   3799\u001b[0m \u001b[38;5;28;01mexcept\u001b[39;00m \u001b[38;5;167;01mTypeError\u001b[39;00m:\n\u001b[1;32m   3800\u001b[0m     \u001b[38;5;66;03m# If we have a listlike key, _check_indexing_error will raise\u001b[39;00m\n\u001b[1;32m   3801\u001b[0m     \u001b[38;5;66;03m#  InvalidIndexError. Otherwise we fall through and re-raise\u001b[39;00m\n\u001b[1;32m   3802\u001b[0m     \u001b[38;5;66;03m#  the TypeError.\u001b[39;00m\n\u001b[1;32m   3803\u001b[0m     \u001b[38;5;28mself\u001b[39m\u001b[38;5;241m.\u001b[39m_check_indexing_error(key)\n",
      "\u001b[0;31mKeyError\u001b[0m: 0"
     ]
    }
   ],
   "source": [
    "calculate_cost(tour_example, packing_plan_example,\n",
    "                                                variables['min_speed'],\n",
    "                                                variables['max_speed'],\n",
    "                                                variables['renting_ratio'],\n",
    "                                                distance_matrix,\n",
    "                                                profit_table)"
   ]
  },
  {
   "cell_type": "code",
   "execution_count": null,
   "metadata": {},
   "outputs": [],
   "source": []
  },
  {
   "cell_type": "code",
   "execution_count": null,
   "metadata": {},
   "outputs": [],
   "source": [
    "calculate_cost(tour_example, packing_plan_example,\n",
    "                                                min_speed,\n",
    "                                                max_speed,\n",
    "                                                renting_ratio,\n",
    "                                                distance_matrix,\n",
    "                                                profit_table)"
   ]
  },
  {
   "cell_type": "code",
   "execution_count": 58,
   "metadata": {},
   "outputs": [
    {
     "ename": "KeyError",
     "evalue": "0",
     "output_type": "error",
     "traceback": [
      "\u001b[0;31m---------------------------------------------------------------------------\u001b[0m",
      "\u001b[0;31mKeyError\u001b[0m                                  Traceback (most recent call last)",
      "File \u001b[0;32m/opt/homebrew/lib/python3.10/site-packages/pandas/core/indexes/base.py:3791\u001b[0m, in \u001b[0;36mIndex.get_loc\u001b[0;34m(self, key)\u001b[0m\n\u001b[1;32m   3790\u001b[0m \u001b[38;5;28;01mtry\u001b[39;00m:\n\u001b[0;32m-> 3791\u001b[0m     \u001b[38;5;28;01mreturn\u001b[39;00m \u001b[38;5;28;43mself\u001b[39;49m\u001b[38;5;241;43m.\u001b[39;49m\u001b[43m_engine\u001b[49m\u001b[38;5;241;43m.\u001b[39;49m\u001b[43mget_loc\u001b[49m\u001b[43m(\u001b[49m\u001b[43mcasted_key\u001b[49m\u001b[43m)\u001b[49m\n\u001b[1;32m   3792\u001b[0m \u001b[38;5;28;01mexcept\u001b[39;00m \u001b[38;5;167;01mKeyError\u001b[39;00m \u001b[38;5;28;01mas\u001b[39;00m err:\n",
      "File \u001b[0;32mindex.pyx:152\u001b[0m, in \u001b[0;36mpandas._libs.index.IndexEngine.get_loc\u001b[0;34m()\u001b[0m\n",
      "File \u001b[0;32mindex.pyx:181\u001b[0m, in \u001b[0;36mpandas._libs.index.IndexEngine.get_loc\u001b[0;34m()\u001b[0m\n",
      "File \u001b[0;32mpandas/_libs/hashtable_class_helper.pxi:7080\u001b[0m, in \u001b[0;36mpandas._libs.hashtable.PyObjectHashTable.get_item\u001b[0;34m()\u001b[0m\n",
      "File \u001b[0;32mpandas/_libs/hashtable_class_helper.pxi:7088\u001b[0m, in \u001b[0;36mpandas._libs.hashtable.PyObjectHashTable.get_item\u001b[0;34m()\u001b[0m\n",
      "\u001b[0;31mKeyError\u001b[0m: 0",
      "\nThe above exception was the direct cause of the following exception:\n",
      "\u001b[0;31mKeyError\u001b[0m                                  Traceback (most recent call last)",
      "Cell \u001b[0;32mIn[58], line 46\u001b[0m\n\u001b[1;32m     43\u001b[0m tour_example \u001b[38;5;241m=\u001b[39m [\u001b[38;5;241m1\u001b[39m, \u001b[38;5;241m3\u001b[39m, \u001b[38;5;241m2\u001b[39m, \u001b[38;5;241m4\u001b[39m]\n\u001b[1;32m     44\u001b[0m packing_plan_example \u001b[38;5;241m=\u001b[39m [\u001b[38;5;241m1\u001b[39m, \u001b[38;5;241m0\u001b[39m, \u001b[38;5;241m1\u001b[39m]\n\u001b[0;32m---> 46\u001b[0m cost \u001b[38;5;241m=\u001b[39m \u001b[43mtravelling_thief_instance\u001b[49m\u001b[38;5;241;43m.\u001b[39;49m\u001b[43mcalculate_cost\u001b[49m\u001b[43m(\u001b[49m\u001b[43mtour_example\u001b[49m\u001b[43m,\u001b[49m\u001b[43m \u001b[49m\u001b[43mpacking_plan_example\u001b[49m\u001b[43m,\u001b[49m\n\u001b[1;32m     47\u001b[0m \u001b[43m                                                \u001b[49m\u001b[43mtravelling_thief_instance\u001b[49m\u001b[38;5;241;43m.\u001b[39;49m\u001b[43mmin_speed\u001b[49m\u001b[43m,\u001b[49m\n\u001b[1;32m     48\u001b[0m \u001b[43m                                                \u001b[49m\u001b[43mtravelling_thief_instance\u001b[49m\u001b[38;5;241;43m.\u001b[39;49m\u001b[43mmax_speed\u001b[49m\u001b[43m,\u001b[49m\n\u001b[1;32m     49\u001b[0m \u001b[43m                                                \u001b[49m\u001b[43mtravelling_thief_instance\u001b[49m\u001b[38;5;241;43m.\u001b[39;49m\u001b[43mrenting_ratio\u001b[49m\u001b[43m,\u001b[49m\n\u001b[1;32m     50\u001b[0m \u001b[43m                                                \u001b[49m\u001b[43mtravelling_thief_instance\u001b[49m\u001b[38;5;241;43m.\u001b[39;49m\u001b[43mdistance_matrix\u001b[49m\u001b[43m,\u001b[49m\n\u001b[1;32m     51\u001b[0m \u001b[43m                                                \u001b[49m\u001b[43mtravelling_thief_instance\u001b[49m\u001b[38;5;241;43m.\u001b[39;49m\u001b[43mprofit_table\u001b[49m\u001b[43m)\u001b[49m\n\u001b[1;32m     53\u001b[0m \u001b[38;5;28mprint\u001b[39m(\u001b[38;5;124mf\u001b[39m\u001b[38;5;124m\"\u001b[39m\u001b[38;5;124mCost for the tour and packing plan: \u001b[39m\u001b[38;5;132;01m{\u001b[39;00mcost\u001b[38;5;132;01m}\u001b[39;00m\u001b[38;5;124m\"\u001b[39m)\n",
      "Cell \u001b[0;32mIn[58], line 33\u001b[0m, in \u001b[0;36mTravellingThief.calculate_cost\u001b[0;34m(tour, packing_plan, min_speed, max_speed, renting_ratio, distance_matrix, profit_table)\u001b[0m\n\u001b[1;32m     31\u001b[0m     \u001b[38;5;66;03m# Update the knapsack weight and velocity based on packing plan\u001b[39;00m\n\u001b[1;32m     32\u001b[0m     \u001b[38;5;28;01mif\u001b[39;00m packing_plan[current_city \u001b[38;5;241m-\u001b[39m \u001b[38;5;241m1\u001b[39m] \u001b[38;5;241m==\u001b[39m \u001b[38;5;241m1\u001b[39m:\n\u001b[0;32m---> 33\u001b[0m         current_weight \u001b[38;5;241m+\u001b[39m\u001b[38;5;241m=\u001b[39m \u001b[43mprofit_table\u001b[49m\u001b[43m[\u001b[49m\u001b[43mcurrent_city\u001b[49m\u001b[43m \u001b[49m\u001b[38;5;241;43m-\u001b[39;49m\u001b[43m \u001b[49m\u001b[38;5;241;43m1\u001b[39;49m\u001b[43m]\u001b[49m[\u001b[38;5;124m'\u001b[39m\u001b[38;5;124mWeight\u001b[39m\u001b[38;5;124m'\u001b[39m]\n\u001b[1;32m     34\u001b[0m         current_velocity \u001b[38;5;241m=\u001b[39m \u001b[38;5;28mmax\u001b[39m(min_speed, current_velocity \u001b[38;5;241m-\u001b[39m renting_ratio \u001b[38;5;241m*\u001b[39m current_weight)\n\u001b[1;32m     36\u001b[0m \u001b[38;5;28;01mreturn\u001b[39;00m total_time\n",
      "File \u001b[0;32m/opt/homebrew/lib/python3.10/site-packages/pandas/core/frame.py:3893\u001b[0m, in \u001b[0;36mDataFrame.__getitem__\u001b[0;34m(self, key)\u001b[0m\n\u001b[1;32m   3891\u001b[0m \u001b[38;5;28;01mif\u001b[39;00m \u001b[38;5;28mself\u001b[39m\u001b[38;5;241m.\u001b[39mcolumns\u001b[38;5;241m.\u001b[39mnlevels \u001b[38;5;241m>\u001b[39m \u001b[38;5;241m1\u001b[39m:\n\u001b[1;32m   3892\u001b[0m     \u001b[38;5;28;01mreturn\u001b[39;00m \u001b[38;5;28mself\u001b[39m\u001b[38;5;241m.\u001b[39m_getitem_multilevel(key)\n\u001b[0;32m-> 3893\u001b[0m indexer \u001b[38;5;241m=\u001b[39m \u001b[38;5;28;43mself\u001b[39;49m\u001b[38;5;241;43m.\u001b[39;49m\u001b[43mcolumns\u001b[49m\u001b[38;5;241;43m.\u001b[39;49m\u001b[43mget_loc\u001b[49m\u001b[43m(\u001b[49m\u001b[43mkey\u001b[49m\u001b[43m)\u001b[49m\n\u001b[1;32m   3894\u001b[0m \u001b[38;5;28;01mif\u001b[39;00m is_integer(indexer):\n\u001b[1;32m   3895\u001b[0m     indexer \u001b[38;5;241m=\u001b[39m [indexer]\n",
      "File \u001b[0;32m/opt/homebrew/lib/python3.10/site-packages/pandas/core/indexes/base.py:3798\u001b[0m, in \u001b[0;36mIndex.get_loc\u001b[0;34m(self, key)\u001b[0m\n\u001b[1;32m   3793\u001b[0m     \u001b[38;5;28;01mif\u001b[39;00m \u001b[38;5;28misinstance\u001b[39m(casted_key, \u001b[38;5;28mslice\u001b[39m) \u001b[38;5;129;01mor\u001b[39;00m (\n\u001b[1;32m   3794\u001b[0m         \u001b[38;5;28misinstance\u001b[39m(casted_key, abc\u001b[38;5;241m.\u001b[39mIterable)\n\u001b[1;32m   3795\u001b[0m         \u001b[38;5;129;01mand\u001b[39;00m \u001b[38;5;28many\u001b[39m(\u001b[38;5;28misinstance\u001b[39m(x, \u001b[38;5;28mslice\u001b[39m) \u001b[38;5;28;01mfor\u001b[39;00m x \u001b[38;5;129;01min\u001b[39;00m casted_key)\n\u001b[1;32m   3796\u001b[0m     ):\n\u001b[1;32m   3797\u001b[0m         \u001b[38;5;28;01mraise\u001b[39;00m InvalidIndexError(key)\n\u001b[0;32m-> 3798\u001b[0m     \u001b[38;5;28;01mraise\u001b[39;00m \u001b[38;5;167;01mKeyError\u001b[39;00m(key) \u001b[38;5;28;01mfrom\u001b[39;00m \u001b[38;5;21;01merr\u001b[39;00m\n\u001b[1;32m   3799\u001b[0m \u001b[38;5;28;01mexcept\u001b[39;00m \u001b[38;5;167;01mTypeError\u001b[39;00m:\n\u001b[1;32m   3800\u001b[0m     \u001b[38;5;66;03m# If we have a listlike key, _check_indexing_error will raise\u001b[39;00m\n\u001b[1;32m   3801\u001b[0m     \u001b[38;5;66;03m#  InvalidIndexError. Otherwise we fall through and re-raise\u001b[39;00m\n\u001b[1;32m   3802\u001b[0m     \u001b[38;5;66;03m#  the TypeError.\u001b[39;00m\n\u001b[1;32m   3803\u001b[0m     \u001b[38;5;28mself\u001b[39m\u001b[38;5;241m.\u001b[39m_check_indexing_error(key)\n",
      "\u001b[0;31mKeyError\u001b[0m: 0"
     ]
    }
   ],
   "source": [
    "class TravellingThief:\n",
    "    def __init__(self, population_size, dimension, num_items, capacity, min_speed, max_speed, renting_ratio, edge_weight_type, distance_matrix, profit_table):\n",
    "        self.population_size = population_size\n",
    "        self.dimension = dimension\n",
    "        self.num_items = num_items\n",
    "        self.capacity = capacity\n",
    "        self.min_speed = min_speed\n",
    "        self.max_speed = max_speed\n",
    "        self.renting_ratio = renting_ratio\n",
    "        self.edge_weight_type = edge_weight_type\n",
    "        self.distance_matrix = distance_matrix\n",
    "        self.profit_table = profit_table\n",
    "\n",
    "    @staticmethod\n",
    "    def calculate_cost(tour, packing_plan, min_speed, max_speed, renting_ratio, distance_matrix, profit_table):\n",
    "        total_time = 0.0\n",
    "        current_weight = 0\n",
    "\n",
    "        # Initial velocity\n",
    "        current_velocity = max_speed\n",
    "\n",
    "        for i in range(len(tour)):\n",
    "            current_city = tour[i]\n",
    "\n",
    "            # Calculate the travel time to the next city\n",
    "            if i < len(tour) - 1:\n",
    "                next_city = tour[i + 1]\n",
    "                travel_time = distance_matrix[current_city][next_city] / current_velocity\n",
    "                total_time += travel_time\n",
    "\n",
    "            # Update the knapsack weight and velocity based on packing plan\n",
    "            if packing_plan[current_city - 1] == 1:\n",
    "                current_weight += profit_table[current_city - 1]['Weight']\n",
    "                current_velocity = max(min_speed, current_velocity - renting_ratio * current_weight)\n",
    "\n",
    "        return total_time\n",
    "\n",
    "# Example usage\n",
    "travelling_thief_instance = TravellingThief(population_size=4, dimension=280, num_items=279, capacity=25936,\n",
    "                                            min_speed=0.1, max_speed=1.0, renting_ratio=5.61, edge_weight_type='CEIL_2D',\n",
    "                                            distance_matrix=distance_matrix, profit_table=profit_matrix)\n",
    "\n",
    "tour_example = [1, 3, 2, 4]\n",
    "packing_plan_example = [1, 0, 1]\n",
    "\n",
    "cost = travelling_thief_instance.calculate_cost(tour_example, packing_plan_example,\n",
    "                                                travelling_thief_instance.min_speed,\n",
    "                                                travelling_thief_instance.max_speed,\n",
    "                                                travelling_thief_instance.renting_ratio,\n",
    "                                                travelling_thief_instance.distance_matrix,\n",
    "                                                travelling_thief_instance.profit_table)\n",
    "\n",
    "print(f\"Cost for the tour and packing plan: {cost}\")\n"
   ]
  },
  {
   "cell_type": "code",
   "execution_count": 1,
   "metadata": {},
   "outputs": [
    {
     "name": "stdout",
     "output_type": "stream",
     "text": [
      "Tour Phenotype: [1 2 1 3]\n",
      "Packing Plan Phenotype: [1 0 1]\n"
     ]
    }
   ],
   "source": [
    "import numpy as np\n",
    "\n",
    "# Given vector\n",
    "genotype_vector = [0.5, 0.1, 0.8, 0.6, 0.1, 0.9]\n",
    "\n",
    "# Determine the length of the tour (n) and the length of the packing plan (m)\n",
    "n = 4  # Assuming the tour has 4 cities\n",
    "m = 3  # Assuming there are 3 items in the packing plan\n",
    "\n",
    "# Split the genotype vector into two parts\n",
    "tour_part = np.array(genotype_vector[:n-1])\n",
    "packing_plan_part = np.array(genotype_vector[n-1:])\n",
    "\n",
    "# Decode the tour part to a permutation vector\n",
    "tour_permutation = np.argsort(tour_part) + 1\n",
    "tour_permutation = np.insert(tour_permutation, 0, 1)  # Insert the starting city 1\n",
    "\n",
    "# Decode the packing plan part to a binary decision vector\n",
    "packing_decision_vector = (packing_plan_part > 0.5).astype(int)\n",
    "\n",
    "# Display the results\n",
    "print(\"Tour Phenotype:\", tour_permutation)\n",
    "print(\"Packing Plan Phenotype:\", packing_decision_vector)\n"
   ]
  },
  {
   "cell_type": "code",
   "execution_count": 2,
   "metadata": {},
   "outputs": [
    {
     "ename": "NameError",
     "evalue": "name 'variables' is not defined",
     "output_type": "error",
     "traceback": [
      "\u001b[0;31m---------------------------------------------------------------------------\u001b[0m",
      "\u001b[0;31mNameError\u001b[0m                                 Traceback (most recent call last)",
      "Cell \u001b[0;32mIn[2], line 1\u001b[0m\n\u001b[0;32m----> 1\u001b[0m \u001b[43mvariables\u001b[49m\n",
      "\u001b[0;31mNameError\u001b[0m: name 'variables' is not defined"
     ]
    }
   ],
   "source": [
    "        print(i,current_weight,current_velocity,distance,time_to_travel)\n"
   ]
  },
  {
   "cell_type": "code",
   "execution_count": 13,
   "metadata": {},
   "outputs": [
    {
     "ename": "NameError",
     "evalue": "name 'packing_plan' is not defined",
     "output_type": "error",
     "traceback": [
      "\u001b[0;31m---------------------------------------------------------------------------\u001b[0m",
      "\u001b[0;31mNameError\u001b[0m                                 Traceback (most recent call last)",
      "Cell \u001b[0;32mIn[13], line 1\u001b[0m\n\u001b[0;32m----> 1\u001b[0m \u001b[43mpacking_plan\u001b[49m\n",
      "\u001b[0;31mNameError\u001b[0m: name 'packing_plan' is not defined"
     ]
    }
   ],
   "source": [
    "packing_plan\n"
   ]
  },
  {
   "cell_type": "code",
   "execution_count": 32,
   "metadata": {},
   "outputs": [
    {
     "data": {
      "text/html": [
       "<div>\n",
       "<style scoped>\n",
       "    .dataframe tbody tr th:only-of-type {\n",
       "        vertical-align: middle;\n",
       "    }\n",
       "\n",
       "    .dataframe tbody tr th {\n",
       "        vertical-align: top;\n",
       "    }\n",
       "\n",
       "    .dataframe thead th {\n",
       "        text-align: right;\n",
       "    }\n",
       "</style>\n",
       "<table border=\"1\" class=\"dataframe\">\n",
       "  <thead>\n",
       "    <tr style=\"text-align: right;\">\n",
       "      <th></th>\n",
       "      <th>Index</th>\n",
       "      <th>Profit</th>\n",
       "      <th>Weight</th>\n",
       "      <th>Assigned_Node</th>\n",
       "      <th>Picked</th>\n",
       "    </tr>\n",
       "  </thead>\n",
       "  <tbody>\n",
       "    <tr>\n",
       "      <th>0</th>\n",
       "      <td>2</td>\n",
       "      <td>34</td>\n",
       "      <td>30</td>\n",
       "      <td>2</td>\n",
       "      <td>1</td>\n",
       "    </tr>\n",
       "    <tr>\n",
       "      <th>1</th>\n",
       "      <td>3</td>\n",
       "      <td>40</td>\n",
       "      <td>40</td>\n",
       "      <td>3</td>\n",
       "      <td>0</td>\n",
       "    </tr>\n",
       "    <tr>\n",
       "      <th>2</th>\n",
       "      <td>4</td>\n",
       "      <td>25</td>\n",
       "      <td>21</td>\n",
       "      <td>4</td>\n",
       "      <td>1</td>\n",
       "    </tr>\n",
       "  </tbody>\n",
       "</table>\n",
       "</div>"
      ],
      "text/plain": [
       "   Index  Profit  Weight  Assigned_Node  Picked\n",
       "0      2      34      30              2       1\n",
       "1      3      40      40              3       0\n",
       "2      4      25      21              4       1"
      ]
     },
     "execution_count": 32,
     "metadata": {},
     "output_type": "execute_result"
    }
   ],
   "source": [
    "profit_table"
   ]
  },
  {
   "cell_type": "code",
   "execution_count": 45,
   "metadata": {},
   "outputs": [],
   "source": [
    "import numpy as np\n",
    "\n",
    "n = 5  # Example value for n\n",
    "vector_length = 2 * n - 1\n",
    "\n",
    "unique_values = set()\n",
    "while len(unique_values) < vector_length:\n",
    "    value = np.random.uniform(low=0.0001, high=0.9999)  # Exclude 0 and 1\n",
    "    unique_values.add(value)\n",
    "\n",
    "vector = np.array(list(unique_values))\n"
   ]
  },
  {
   "cell_type": "code",
   "execution_count": 46,
   "metadata": {},
   "outputs": [
    {
     "data": {
      "text/plain": [
       "array([0.88132891, 0.87708642, 0.91012356, 0.58740603, 0.82413326,\n",
       "       0.91607612, 0.89317512, 0.91985402, 0.90248644])"
      ]
     },
     "execution_count": 46,
     "metadata": {},
     "output_type": "execute_result"
    }
   ],
   "source": [
    "vector"
   ]
  },
  {
   "cell_type": "code",
   "execution_count": 47,
   "metadata": {},
   "outputs": [
    {
     "data": {
      "text/plain": [
       "[0.5, 0.1, 0.8, 0.6, 0.1, 0.9]"
      ]
     },
     "execution_count": 47,
     "metadata": {},
     "output_type": "execute_result"
    }
   ],
   "source": [
    "[0.5, 0.1, 0.8, 0.6, 0.1, 0.9]"
   ]
  },
  {
   "cell_type": "code",
   "execution_count": 53,
   "metadata": {},
   "outputs": [
    {
     "data": {
      "text/plain": [
       "[0.1, 0.5, 0.8]"
      ]
     },
     "execution_count": 53,
     "metadata": {},
     "output_type": "execute_result"
    }
   ],
   "source": [
    "sorted([0.5, 0.1, 0.8])"
   ]
  },
  {
   "cell_type": "code",
   "execution_count": 52,
   "metadata": {},
   "outputs": [
    {
     "data": {
      "text/plain": [
       "[1.1, 1.5, 1.8]"
      ]
     },
     "execution_count": 52,
     "metadata": {},
     "output_type": "execute_result"
    }
   ],
   "source": [
    "[x+1 for x in sorted([0.5, 0.1, 0.8])]"
   ]
  },
  {
   "cell_type": "code",
   "execution_count": 55,
   "metadata": {},
   "outputs": [
    {
     "data": {
      "text/plain": [
       "array([[0.        , 4.        , 8.54400375, 3.        ],\n",
       "       [4.        , 0.        , 5.        , 5.        ],\n",
       "       [8.54400375, 5.        , 0.        , 8.        ],\n",
       "       [3.        , 5.        , 8.        , 0.        ]])"
      ]
     },
     "execution_count": 55,
     "metadata": {},
     "output_type": "execute_result"
    }
   ],
   "source": [
    "distance_matrix"
   ]
  },
  {
   "cell_type": "code",
   "execution_count": 64,
   "metadata": {},
   "outputs": [
    {
     "data": {
      "text/plain": [
       "([1, 3, 2, 4], array([1, 0, 1]))"
      ]
     },
     "execution_count": 64,
     "metadata": {},
     "output_type": "execute_result"
    }
   ],
   "source": [
    "import numpy as np\n",
    "\n",
    "def get_tour(starting_index, vector):\n",
    "    half_length = len(vector) // 2\n",
    "    first_half = vector[:half_length]\n",
    "    sorted_indices = np.argsort(first_half) + 2  # Adding 2 because of zero-indexing and to include the starting index\n",
    "    sorted_indices = [starting_index] + sorted_indices.tolist()\n",
    "    return sorted_indices\n",
    "\n",
    "def get_packing_plan(vector):\n",
    "    half_length = len(vector) // 2\n",
    "    second_half = vector[half_length:]\n",
    "    packing_plan = np.where(second_half > 0.5, 1, 0)\n",
    "    return packing_plan\n",
    "\n",
    "# Example vector\n",
    "vector = np.array([0.5, 0.1, 0.8, 0.6, 0.1, 0.9])\n",
    "\n",
    "# Get tour and packing plan\n",
    "tour = get_tour(starting_index=1, vector=vector)\n",
    "packing_plan = get_packing_plan(vector)\n",
    "\n",
    "tour, packing_plan\n"
   ]
  },
  {
   "cell_type": "code",
   "execution_count": 68,
   "metadata": {},
   "outputs": [
    {
     "data": {
      "text/plain": [
       "'3.15645915e-01 4.53030677e-01 2.66982264e-01 1.08928182e-01\\n 8.68166479e-01 6.29728518e-01 3.52518708e-01 6.75375994e-02\\n 6.26350592e-01 5.98660860e-01 9.22172511e-02 5.68515514e-02\\n 2.37132200e-01 2.35403670e-01 7.74371382e-01 4.26011311e-02\\n 3.54695279e-01 4.69166604e-01 7.67579920e-01 8.63516638e-01\\n 7.77620476e-01 2.25900156e-01 7.60389215e-01 4.41385371e-01\\n 2.17436735e-01 6.20251314e-01 1.41223510e-01 8.87551809e-02\\n 4.37561248e-01 2.89188192e-01 2.73069231e-01 5.49044754e-01\\n 9.65158649e-01 6.92406344e-01 6.44791747e-01 7.25829272e-01\\n 9.38300100e-01 4.72944714e-02 2.19055251e-03 3.46374663e-01\\n 6.77973870e-01 3.14115205e-01 7.83066568e-01 6.05550374e-01\\n 1.12060886e-01 8.86877968e-01 3.42211267e-01 5.51175913e-01\\n 8.15684753e-01 8.54537963e-01 6.27288426e-01 1.49496596e-01\\n 7.11852643e-01 3.20727456e-01 5.43364147e-01 5.89710407e-01\\n 2.31646917e-01 1.13270770e-02 7.28301435e-01 5.11450348e-02\\n 8.18167125e-01 2.45748710e-01 7.61276478e-02 5.95748028e-01\\n 1.81174414e-01 2.16680676e-01 5.12141298e-01 5.04229607e-02\\n 2.56736400e-01 2.54451891e-01 3.58113943e-01 5.04017540e-01\\n 1.51924379e-01 5.80728696e-01 1.89297018e-01 3.31209035e-01\\n 3.92400636e-01 4.22323896e-01 4.05886808e-01 5.84189356e-01\\n 9.91661443e-01 1.34504591e-01 5.07036061e-01 8.08908530e-01\\n 9.64719688e-01 7.94197165e-01 1.78611914e-01 8.66908031e-02\\n 8.24482422e-01 2.60644041e-01 9.29010603e-01 9.66595159e-01\\n 1.89505352e-01 9.64222991e-01 6.48914841e-01 2.38615183e-01\\n 8.01323980e-01 7.66065851e-01 2.11118690e-01 9.55127135e-02\\n 6.95051715e-01 4.38151648e-01 5.78623627e-01 7.16433736e-01\\n 3.52323404e-01 3.08884504e-01 6.76775372e-02 4.18771129e-01\\n 2.30360095e-01 3.06120981e-01 4.04072886e-01 9.39164440e-01\\n 1.80696464e-01 1.94442089e-01 4.56141281e-01 9.17005653e-01\\n 1.08160421e-01 3.87638323e-01 7.98300767e-02 3.98551588e-01\\n 8.75882461e-01 3.32068929e-01 6.55976158e-01 9.38786005e-01\\n 1.73427742e-01 6.11302447e-01 6.37563225e-02 1.24604124e-01\\n 4.15113517e-01 1.48866515e-01 8.85945533e-01 5.90106688e-01\\n 6.82844853e-01 1.00724154e-01 8.93409239e-01 3.66484876e-01\\n 8.49609675e-01 7.05659239e-01 1.29050950e-03 6.05378013e-01\\n 2.13653216e-02 4.14104420e-01 4.91170234e-02 9.92262017e-01\\n 4.68965468e-02 1.41739870e-01 2.51978438e-01 3.29358788e-01\\n 7.44883221e-01 1.92359500e-01 8.51710855e-01 4.78038301e-01\\n 9.90258943e-01 3.47459576e-01 5.36793631e-01 2.20791933e-01\\n 6.45009298e-01 6.42182598e-01 7.97079506e-01 5.69867527e-01\\n 3.40014060e-01 9.86790967e-01 5.89809869e-01 8.50221711e-01\\n 3.16317874e-01 8.12510068e-01 2.84337352e-01 6.61281715e-01\\n 1.14977087e-01 9.80158810e-01 8.01016205e-01 9.29012485e-01\\n 7.34405479e-01 3.14597571e-01 9.98558927e-01 5.16342607e-01\\n 3.45345671e-01 8.11041051e-01 2.86532991e-01 2.00982613e-01\\n 3.14126685e-01 4.00425839e-01 6.51925481e-01 3.03312085e-02\\n 1.87841761e-01 1.82841661e-01 6.76988919e-01 5.31352267e-01\\n 1.75215609e-01 4.58564305e-01 7.86987569e-01 3.72696090e-02\\n 1.08258582e-01 2.91632033e-01 8.52908069e-01 6.83483127e-01\\n 1.20654493e-02 7.75731306e-01 8.14850337e-01 9.58801565e-01\\n 9.44386062e-01 7.48724587e-01 8.84856369e-01 2.82872731e-01\\n 9.92240079e-01 5.99205886e-01 2.28333420e-01 8.03768880e-01\\n 4.63191207e-02 6.26781399e-01 9.83072718e-01 3.62678138e-01\\n 6.08837649e-01 7.64126395e-01 5.09902683e-01 9.35938626e-01\\n 2.10917501e-01 9.06093720e-01 9.49901307e-01 8.97181579e-01\\n 4.77335081e-01 7.31483075e-01 9.32738691e-02 4.40195197e-01\\n 1.51545131e-01 1.04916162e-01 5.96120573e-01 4.98548119e-01\\n 6.64062820e-01 2.39590315e-01 2.16716482e-01 1.41736214e-01\\n 4.56505724e-01 8.91101539e-02 6.67590593e-01 8.02963420e-01\\n 3.39177444e-01 9.62376868e-02 8.28363576e-01 5.13335897e-01\\n 4.90750566e-01 5.96443244e-01 4.65604625e-01 8.98784392e-01\\n 8.11255124e-01 9.28712208e-01 4.62498552e-01 6.07420663e-01\\n 1.90899655e-02 4.91951590e-01 7.44833721e-01 9.21511532e-01\\n 1.20502389e-01 5.35735046e-01 2.76740038e-01 7.75236759e-01\\n 2.97175424e-01 7.03760605e-01 7.89109852e-01 3.45365904e-01\\n 5.42818051e-01 9.43420213e-01 7.90262903e-01 6.37942023e-01\\n 9.90247924e-02 2.61989256e-01 5.59068121e-01 2.66564164e-01\\n 4.85505959e-01 7.47390673e-01 4.85974810e-02 9.57450384e-01\\n 7.52390126e-01 9.32010767e-01 7.22470776e-01 6.33382891e-01\\n 7.31623134e-01 9.23539207e-01 2.65950022e-01 7.25234929e-01\\n 8.00507244e-01 5.72518513e-02 2.13877257e-03 4.61449296e-01\\n 5.21796617e-01 6.58915855e-01 8.30846016e-01 2.97394184e-01\\n 9.34986090e-01 6.28809510e-01 5.57989306e-01 1.21002221e-01\\n 8.49239551e-01 8.29854917e-02 9.05292502e-02 6.22771833e-01\\n 4.94637474e-01 8.24057296e-01 1.13972098e-01 5.56995216e-01\\n 2.83437981e-01 6.41914147e-01 6.44857492e-01 8.70456480e-01\\n 7.82406385e-01 1.47704983e-01 3.81484492e-02 5.13978921e-01\\n 1.18726347e-01 6.18754663e-01 3.70116127e-01 1.85950111e-01\\n 1.50007515e-01 6.33492460e-02 2.05650702e-01 2.71988174e-01\\n 7.22715778e-01 6.04567967e-01 3.25186659e-01 5.93233484e-01\\n 3.90476607e-01 1.27194277e-01 3.37988711e-01 1.65549805e-01\\n 1.96151889e-01 2.93266118e-01 2.88382554e-01 3.29607535e-01\\n 5.94174916e-01 6.45579766e-01 1.21453031e-01 7.38913769e-01\\n 8.29360827e-01 9.47909597e-01 7.11188406e-01 7.52012877e-01\\n 1.25315063e-02 9.13103516e-01 4.74977294e-01 2.12328366e-02\\n 5.16698078e-01 9.61447379e-01 5.65671359e-01 8.43754013e-01\\n 4.47718378e-01 5.77610588e-01 6.92064926e-02 1.59911416e-01\\n 4.85992026e-01 6.67688081e-02 4.57901885e-01 5.26899899e-01\\n 4.25239388e-01 3.32207863e-01 2.37417891e-01 9.64139455e-01\\n 4.56645321e-01 3.08025899e-01 7.06525093e-01 6.76847377e-01\\n 1.44784628e-02 5.38852471e-02 3.36482026e-01 5.49102070e-01\\n 2.78151237e-01 3.74392853e-01 8.07930213e-01 9.49899667e-01\\n 2.67415338e-01 3.25924823e-01 3.68106366e-01 7.61264108e-01\\n 6.52760365e-01 5.21900179e-01 2.79261468e-01 7.40848063e-01\\n 4.31365469e-01 7.77981567e-01 7.35219357e-01 2.24699268e-01\\n 5.61289834e-01 7.31326179e-01 4.53864339e-02 2.37055857e-01\\n 2.78019479e-01 9.83152395e-01 7.23890479e-01 8.68315062e-01\\n 6.93867397e-01 3.98975093e-01 4.39029245e-01 4.79302533e-01\\n 5.63436829e-01 9.20689796e-01 2.79047556e-01 9.39431945e-04\\n 2.46275749e-01 8.11572188e-01 3.33844538e-01 3.26086177e-01\\n 8.47859279e-01 7.40246573e-02 4.55168324e-02 1.02198881e-01\\n 2.29364176e-01 8.72713417e-01 5.45853158e-01 6.72929191e-01\\n 6.35190148e-01 9.92156902e-01 5.73437943e-01 4.73507660e-01\\n 3.86937381e-01 6.20041853e-01 6.55725655e-01 5.45295840e-01\\n 3.73205671e-01 7.91417508e-01 3.66664915e-01 1.91092815e-02\\n 2.06762158e-01 2.15580940e-01 5.34511398e-01 8.14955668e-01\\n 1.03499853e-01 5.61093330e-01 5.36074730e-01 6.92525768e-01\\n 2.38251163e-01 7.15281859e-01 6.87795252e-01 9.13645099e-01\\n 6.40045121e-01 8.27926980e-01 1.30863254e-01 7.22187653e-01\\n 4.82151336e-01 7.65130587e-01 7.18553855e-01 5.05464969e-02\\n 9.03913806e-02 6.88558281e-01 9.25435381e-01 3.28666924e-01\\n 6.29965576e-01 7.68511786e-01 4.31066053e-01 2.83020703e-01\\n 5.07396036e-01 2.13237059e-01 4.28593501e-01 3.36404140e-01\\n 6.89877456e-01 9.37269972e-01 8.47230016e-01 6.77592491e-03\\n 3.90033396e-01 3.85674698e-01 1.62208461e-01 1.91527363e-01\\n 4.49462816e-01 1.16812187e-01 8.89536151e-01 2.56963068e-02\\n 3.35233227e-02 8.89456920e-01 5.01150749e-01 4.36671671e-01\\n 6.22809134e-01 5.00426624e-01 4.25458762e-01 1.81275554e-01\\n 6.17252571e-01 1.72958834e-01 3.53156654e-01 3.01425592e-01\\n 8.24294806e-01 1.06290612e-01 6.88192624e-01 1.18842918e-01\\n 3.77816220e-01 9.33151710e-01 8.45708492e-01 6.10373487e-01\\n 9.63766648e-01 6.00600567e-01 5.45146670e-01 3.26508158e-01\\n 6.30131410e-01 3.99116711e-01 9.42421544e-01 7.29800694e-01\\n 7.24192140e-01 7.48898090e-01 4.29362058e-01 7.07520237e-01\\n 2.03930339e-01 2.67544305e-01 5.72491066e-02 3.47733347e-02\\n 4.92959929e-04 7.50134429e-01 5.76271367e-01 5.83435666e-01\\n 5.93869680e-01 7.23725529e-01 6.29377010e-02 7.05168815e-01\\n 5.59570141e-01 6.06621568e-01 8.73148310e-01 1.14471243e-01\\n 6.13515504e-01 5.17464266e-01 1.92171724e-01 8.64569916e-01\\n 6.39381666e-01 9.28992832e-01 4.65240375e-02 5.73059203e-01\\n 6.96025236e-01 2.24000936e-01 4.08869526e-01 6.97422591e-01\\n 3.11093008e-02 6.09208374e-01 8.07310707e-01 6.14445666e-01\\n 4.97190147e-01 1.31616970e-02 9.48581375e-01 8.82429760e-01\\n 8.92307119e-01 9.46584796e-01 5.62527895e-01 4.38999303e-02\\n 5.47912848e-01 7.90657420e-01 4.40906883e-01 9.69686197e-02\\n 1.87603668e-01 9.46799108e-01 6.28377284e-01 9.32080443e-01\\n 9.25229036e-01 2.11718714e-01 6.71015967e-01 8.77004341e-01\\n 4.80702506e-01 8.92761913e-01 4.05982571e-01 1.58731198e-01\\n 8.61379884e-01 8.35415411e-01 2.58706997e-01 3.12324716e-01\\n 2.81289015e-02 6.83557537e-01'"
      ]
     },
     "execution_count": 68,
     "metadata": {},
     "output_type": "execute_result"
    }
   ],
   "source": [
    "\"\"\"3.15645915e-01 4.53030677e-01 2.66982264e-01 1.08928182e-01\n",
    " 8.68166479e-01 6.29728518e-01 3.52518708e-01 6.75375994e-02\n",
    " 6.26350592e-01 5.98660860e-01 9.22172511e-02 5.68515514e-02\n",
    " 2.37132200e-01 2.35403670e-01 7.74371382e-01 4.26011311e-02\n",
    " 3.54695279e-01 4.69166604e-01 7.67579920e-01 8.63516638e-01\n",
    " 7.77620476e-01 2.25900156e-01 7.60389215e-01 4.41385371e-01\n",
    " 2.17436735e-01 6.20251314e-01 1.41223510e-01 8.87551809e-02\n",
    " 4.37561248e-01 2.89188192e-01 2.73069231e-01 5.49044754e-01\n",
    " 9.65158649e-01 6.92406344e-01 6.44791747e-01 7.25829272e-01\n",
    " 9.38300100e-01 4.72944714e-02 2.19055251e-03 3.46374663e-01\n",
    " 6.77973870e-01 3.14115205e-01 7.83066568e-01 6.05550374e-01\n",
    " 1.12060886e-01 8.86877968e-01 3.42211267e-01 5.51175913e-01\n",
    " 8.15684753e-01 8.54537963e-01 6.27288426e-01 1.49496596e-01\n",
    " 7.11852643e-01 3.20727456e-01 5.43364147e-01 5.89710407e-01\n",
    " 2.31646917e-01 1.13270770e-02 7.28301435e-01 5.11450348e-02\n",
    " 8.18167125e-01 2.45748710e-01 7.61276478e-02 5.95748028e-01\n",
    " 1.81174414e-01 2.16680676e-01 5.12141298e-01 5.04229607e-02\n",
    " 2.56736400e-01 2.54451891e-01 3.58113943e-01 5.04017540e-01\n",
    " 1.51924379e-01 5.80728696e-01 1.89297018e-01 3.31209035e-01\n",
    " 3.92400636e-01 4.22323896e-01 4.05886808e-01 5.84189356e-01\n",
    " 9.91661443e-01 1.34504591e-01 5.07036061e-01 8.08908530e-01\n",
    " 9.64719688e-01 7.94197165e-01 1.78611914e-01 8.66908031e-02\n",
    " 8.24482422e-01 2.60644041e-01 9.29010603e-01 9.66595159e-01\n",
    " 1.89505352e-01 9.64222991e-01 6.48914841e-01 2.38615183e-01\n",
    " 8.01323980e-01 7.66065851e-01 2.11118690e-01 9.55127135e-02\n",
    " 6.95051715e-01 4.38151648e-01 5.78623627e-01 7.16433736e-01\n",
    " 3.52323404e-01 3.08884504e-01 6.76775372e-02 4.18771129e-01\n",
    " 2.30360095e-01 3.06120981e-01 4.04072886e-01 9.39164440e-01\n",
    " 1.80696464e-01 1.94442089e-01 4.56141281e-01 9.17005653e-01\n",
    " 1.08160421e-01 3.87638323e-01 7.98300767e-02 3.98551588e-01\n",
    " 8.75882461e-01 3.32068929e-01 6.55976158e-01 9.38786005e-01\n",
    " 1.73427742e-01 6.11302447e-01 6.37563225e-02 1.24604124e-01\n",
    " 4.15113517e-01 1.48866515e-01 8.85945533e-01 5.90106688e-01\n",
    " 6.82844853e-01 1.00724154e-01 8.93409239e-01 3.66484876e-01\n",
    " 8.49609675e-01 7.05659239e-01 1.29050950e-03 6.05378013e-01\n",
    " 2.13653216e-02 4.14104420e-01 4.91170234e-02 9.92262017e-01\n",
    " 4.68965468e-02 1.41739870e-01 2.51978438e-01 3.29358788e-01\n",
    " 7.44883221e-01 1.92359500e-01 8.51710855e-01 4.78038301e-01\n",
    " 9.90258943e-01 3.47459576e-01 5.36793631e-01 2.20791933e-01\n",
    " 6.45009298e-01 6.42182598e-01 7.97079506e-01 5.69867527e-01\n",
    " 3.40014060e-01 9.86790967e-01 5.89809869e-01 8.50221711e-01\n",
    " 3.16317874e-01 8.12510068e-01 2.84337352e-01 6.61281715e-01\n",
    " 1.14977087e-01 9.80158810e-01 8.01016205e-01 9.29012485e-01\n",
    " 7.34405479e-01 3.14597571e-01 9.98558927e-01 5.16342607e-01\n",
    " 3.45345671e-01 8.11041051e-01 2.86532991e-01 2.00982613e-01\n",
    " 3.14126685e-01 4.00425839e-01 6.51925481e-01 3.03312085e-02\n",
    " 1.87841761e-01 1.82841661e-01 6.76988919e-01 5.31352267e-01\n",
    " 1.75215609e-01 4.58564305e-01 7.86987569e-01 3.72696090e-02\n",
    " 1.08258582e-01 2.91632033e-01 8.52908069e-01 6.83483127e-01\n",
    " 1.20654493e-02 7.75731306e-01 8.14850337e-01 9.58801565e-01\n",
    " 9.44386062e-01 7.48724587e-01 8.84856369e-01 2.82872731e-01\n",
    " 9.92240079e-01 5.99205886e-01 2.28333420e-01 8.03768880e-01\n",
    " 4.63191207e-02 6.26781399e-01 9.83072718e-01 3.62678138e-01\n",
    " 6.08837649e-01 7.64126395e-01 5.09902683e-01 9.35938626e-01\n",
    " 2.10917501e-01 9.06093720e-01 9.49901307e-01 8.97181579e-01\n",
    " 4.77335081e-01 7.31483075e-01 9.32738691e-02 4.40195197e-01\n",
    " 1.51545131e-01 1.04916162e-01 5.96120573e-01 4.98548119e-01\n",
    " 6.64062820e-01 2.39590315e-01 2.16716482e-01 1.41736214e-01\n",
    " 4.56505724e-01 8.91101539e-02 6.67590593e-01 8.02963420e-01\n",
    " 3.39177444e-01 9.62376868e-02 8.28363576e-01 5.13335897e-01\n",
    " 4.90750566e-01 5.96443244e-01 4.65604625e-01 8.98784392e-01\n",
    " 8.11255124e-01 9.28712208e-01 4.62498552e-01 6.07420663e-01\n",
    " 1.90899655e-02 4.91951590e-01 7.44833721e-01 9.21511532e-01\n",
    " 1.20502389e-01 5.35735046e-01 2.76740038e-01 7.75236759e-01\n",
    " 2.97175424e-01 7.03760605e-01 7.89109852e-01 3.45365904e-01\n",
    " 5.42818051e-01 9.43420213e-01 7.90262903e-01 6.37942023e-01\n",
    " 9.90247924e-02 2.61989256e-01 5.59068121e-01 2.66564164e-01\n",
    " 4.85505959e-01 7.47390673e-01 4.85974810e-02 9.57450384e-01\n",
    " 7.52390126e-01 9.32010767e-01 7.22470776e-01 6.33382891e-01\n",
    " 7.31623134e-01 9.23539207e-01 2.65950022e-01 7.25234929e-01\n",
    " 8.00507244e-01 5.72518513e-02 2.13877257e-03 4.61449296e-01\n",
    " 5.21796617e-01 6.58915855e-01 8.30846016e-01 2.97394184e-01\n",
    " 9.34986090e-01 6.28809510e-01 5.57989306e-01 1.21002221e-01\n",
    " 8.49239551e-01 8.29854917e-02 9.05292502e-02 6.22771833e-01\n",
    " 4.94637474e-01 8.24057296e-01 1.13972098e-01 5.56995216e-01\n",
    " 2.83437981e-01 6.41914147e-01 6.44857492e-01 8.70456480e-01\n",
    " 7.82406385e-01 1.47704983e-01 3.81484492e-02 5.13978921e-01\n",
    " 1.18726347e-01 6.18754663e-01 3.70116127e-01 1.85950111e-01\n",
    " 1.50007515e-01 6.33492460e-02 2.05650702e-01 2.71988174e-01\n",
    " 7.22715778e-01 6.04567967e-01 3.25186659e-01 5.93233484e-01\n",
    " 3.90476607e-01 1.27194277e-01 3.37988711e-01 1.65549805e-01\n",
    " 1.96151889e-01 2.93266118e-01 2.88382554e-01 3.29607535e-01\n",
    " 5.94174916e-01 6.45579766e-01 1.21453031e-01 7.38913769e-01\n",
    " 8.29360827e-01 9.47909597e-01 7.11188406e-01 7.52012877e-01\n",
    " 1.25315063e-02 9.13103516e-01 4.74977294e-01 2.12328366e-02\n",
    " 5.16698078e-01 9.61447379e-01 5.65671359e-01 8.43754013e-01\n",
    " 4.47718378e-01 5.77610588e-01 6.92064926e-02 1.59911416e-01\n",
    " 4.85992026e-01 6.67688081e-02 4.57901885e-01 5.26899899e-01\n",
    " 4.25239388e-01 3.32207863e-01 2.37417891e-01 9.64139455e-01\n",
    " 4.56645321e-01 3.08025899e-01 7.06525093e-01 6.76847377e-01\n",
    " 1.44784628e-02 5.38852471e-02 3.36482026e-01 5.49102070e-01\n",
    " 2.78151237e-01 3.74392853e-01 8.07930213e-01 9.49899667e-01\n",
    " 2.67415338e-01 3.25924823e-01 3.68106366e-01 7.61264108e-01\n",
    " 6.52760365e-01 5.21900179e-01 2.79261468e-01 7.40848063e-01\n",
    " 4.31365469e-01 7.77981567e-01 7.35219357e-01 2.24699268e-01\n",
    " 5.61289834e-01 7.31326179e-01 4.53864339e-02 2.37055857e-01\n",
    " 2.78019479e-01 9.83152395e-01 7.23890479e-01 8.68315062e-01\n",
    " 6.93867397e-01 3.98975093e-01 4.39029245e-01 4.79302533e-01\n",
    " 5.63436829e-01 9.20689796e-01 2.79047556e-01 9.39431945e-04\n",
    " 2.46275749e-01 8.11572188e-01 3.33844538e-01 3.26086177e-01\n",
    " 8.47859279e-01 7.40246573e-02 4.55168324e-02 1.02198881e-01\n",
    " 2.29364176e-01 8.72713417e-01 5.45853158e-01 6.72929191e-01\n",
    " 6.35190148e-01 9.92156902e-01 5.73437943e-01 4.73507660e-01\n",
    " 3.86937381e-01 6.20041853e-01 6.55725655e-01 5.45295840e-01\n",
    " 3.73205671e-01 7.91417508e-01 3.66664915e-01 1.91092815e-02\n",
    " 2.06762158e-01 2.15580940e-01 5.34511398e-01 8.14955668e-01\n",
    " 1.03499853e-01 5.61093330e-01 5.36074730e-01 6.92525768e-01\n",
    " 2.38251163e-01 7.15281859e-01 6.87795252e-01 9.13645099e-01\n",
    " 6.40045121e-01 8.27926980e-01 1.30863254e-01 7.22187653e-01\n",
    " 4.82151336e-01 7.65130587e-01 7.18553855e-01 5.05464969e-02\n",
    " 9.03913806e-02 6.88558281e-01 9.25435381e-01 3.28666924e-01\n",
    " 6.29965576e-01 7.68511786e-01 4.31066053e-01 2.83020703e-01\n",
    " 5.07396036e-01 2.13237059e-01 4.28593501e-01 3.36404140e-01\n",
    " 6.89877456e-01 9.37269972e-01 8.47230016e-01 6.77592491e-03\n",
    " 3.90033396e-01 3.85674698e-01 1.62208461e-01 1.91527363e-01\n",
    " 4.49462816e-01 1.16812187e-01 8.89536151e-01 2.56963068e-02\n",
    " 3.35233227e-02 8.89456920e-01 5.01150749e-01 4.36671671e-01\n",
    " 6.22809134e-01 5.00426624e-01 4.25458762e-01 1.81275554e-01\n",
    " 6.17252571e-01 1.72958834e-01 3.53156654e-01 3.01425592e-01\n",
    " 8.24294806e-01 1.06290612e-01 6.88192624e-01 1.18842918e-01\n",
    " 3.77816220e-01 9.33151710e-01 8.45708492e-01 6.10373487e-01\n",
    " 9.63766648e-01 6.00600567e-01 5.45146670e-01 3.26508158e-01\n",
    " 6.30131410e-01 3.99116711e-01 9.42421544e-01 7.29800694e-01\n",
    " 7.24192140e-01 7.48898090e-01 4.29362058e-01 7.07520237e-01\n",
    " 2.03930339e-01 2.67544305e-01 5.72491066e-02 3.47733347e-02\n",
    " 4.92959929e-04 7.50134429e-01 5.76271367e-01 5.83435666e-01\n",
    " 5.93869680e-01 7.23725529e-01 6.29377010e-02 7.05168815e-01\n",
    " 5.59570141e-01 6.06621568e-01 8.73148310e-01 1.14471243e-01\n",
    " 6.13515504e-01 5.17464266e-01 1.92171724e-01 8.64569916e-01\n",
    " 6.39381666e-01 9.28992832e-01 4.65240375e-02 5.73059203e-01\n",
    " 6.96025236e-01 2.24000936e-01 4.08869526e-01 6.97422591e-01\n",
    " 3.11093008e-02 6.09208374e-01 8.07310707e-01 6.14445666e-01\n",
    " 4.97190147e-01 1.31616970e-02 9.48581375e-01 8.82429760e-01\n",
    " 8.92307119e-01 9.46584796e-01 5.62527895e-01 4.38999303e-02\n",
    " 5.47912848e-01 7.90657420e-01 4.40906883e-01 9.69686197e-02\n",
    " 1.87603668e-01 9.46799108e-01 6.28377284e-01 9.32080443e-01\n",
    " 9.25229036e-01 2.11718714e-01 6.71015967e-01 8.77004341e-01\n",
    " 4.80702506e-01 8.92761913e-01 4.05982571e-01 1.58731198e-01\n",
    " 8.61379884e-01 8.35415411e-01 2.58706997e-01 3.12324716e-01\n",
    " 2.81289015e-02 6.83557537e-01\"\"\""
   ]
  },
  {
   "cell_type": "code",
   "execution_count": null,
   "metadata": {},
   "outputs": [],
   "source": []
  }
 ],
 "metadata": {
  "kernelspec": {
   "display_name": "Python 3",
   "language": "python",
   "name": "python3"
  },
  "language_info": {
   "codemirror_mode": {
    "name": "ipython",
    "version": 3
   },
   "file_extension": ".py",
   "mimetype": "text/x-python",
   "name": "python",
   "nbconvert_exporter": "python",
   "pygments_lexer": "ipython3",
   "version": "3.10.13"
  }
 },
 "nbformat": 4,
 "nbformat_minor": 2
}
