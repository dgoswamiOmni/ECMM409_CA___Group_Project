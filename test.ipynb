{
 "cells": [
  {
   "cell_type": "code",
   "execution_count": 2,
   "metadata": {},
   "outputs": [
    {
     "ename": "FileNotFoundError",
     "evalue": "[Errno 2] No such file or directory: 'a280-n279.txt'",
     "output_type": "error",
     "traceback": [
      "\u001b[0;31m---------------------------------------------------------------------------\u001b[0m",
      "\u001b[0;31mFileNotFoundError\u001b[0m                         Traceback (most recent call last)",
      "Cell \u001b[0;32mIn[2], line 51\u001b[0m\n\u001b[1;32m     47\u001b[0m     \u001b[38;5;28;01mreturn\u001b[39;00m profit_matrix\n\u001b[1;32m     49\u001b[0m \u001b[38;5;66;03m# Example usage:\u001b[39;00m\n\u001b[0;32m---> 51\u001b[0m \u001b[38;5;28;01mwith\u001b[39;00m \u001b[38;5;28;43mopen\u001b[39;49m\u001b[43m(\u001b[49m\u001b[38;5;124;43m'\u001b[39;49m\u001b[38;5;124;43ma280-n279.txt\u001b[39;49m\u001b[38;5;124;43m'\u001b[39;49m\u001b[43m,\u001b[49m\u001b[43m \u001b[49m\u001b[38;5;124;43m'\u001b[39;49m\u001b[38;5;124;43mr\u001b[39;49m\u001b[38;5;124;43m'\u001b[39;49m\u001b[43m)\u001b[49m \u001b[38;5;28;01mas\u001b[39;00m file:\n\u001b[1;32m     52\u001b[0m     lines \u001b[38;5;241m=\u001b[39m file\u001b[38;5;241m.\u001b[39mreadlines()\n\u001b[1;32m     54\u001b[0m variables \u001b[38;5;241m=\u001b[39m parse_variables(lines)\n",
      "File \u001b[0;32m~/Library/Python/3.10/lib/python/site-packages/IPython/core/interactiveshell.py:310\u001b[0m, in \u001b[0;36m_modified_open\u001b[0;34m(file, *args, **kwargs)\u001b[0m\n\u001b[1;32m    303\u001b[0m \u001b[38;5;28;01mif\u001b[39;00m file \u001b[38;5;129;01min\u001b[39;00m {\u001b[38;5;241m0\u001b[39m, \u001b[38;5;241m1\u001b[39m, \u001b[38;5;241m2\u001b[39m}:\n\u001b[1;32m    304\u001b[0m     \u001b[38;5;28;01mraise\u001b[39;00m \u001b[38;5;167;01mValueError\u001b[39;00m(\n\u001b[1;32m    305\u001b[0m         \u001b[38;5;124mf\u001b[39m\u001b[38;5;124m\"\u001b[39m\u001b[38;5;124mIPython won\u001b[39m\u001b[38;5;124m'\u001b[39m\u001b[38;5;124mt let you open fd=\u001b[39m\u001b[38;5;132;01m{\u001b[39;00mfile\u001b[38;5;132;01m}\u001b[39;00m\u001b[38;5;124m by default \u001b[39m\u001b[38;5;124m\"\u001b[39m\n\u001b[1;32m    306\u001b[0m         \u001b[38;5;124m\"\u001b[39m\u001b[38;5;124mas it is likely to crash IPython. If you know what you are doing, \u001b[39m\u001b[38;5;124m\"\u001b[39m\n\u001b[1;32m    307\u001b[0m         \u001b[38;5;124m\"\u001b[39m\u001b[38;5;124myou can use builtins\u001b[39m\u001b[38;5;124m'\u001b[39m\u001b[38;5;124m open.\u001b[39m\u001b[38;5;124m\"\u001b[39m\n\u001b[1;32m    308\u001b[0m     )\n\u001b[0;32m--> 310\u001b[0m \u001b[38;5;28;01mreturn\u001b[39;00m \u001b[43mio_open\u001b[49m\u001b[43m(\u001b[49m\u001b[43mfile\u001b[49m\u001b[43m,\u001b[49m\u001b[43m \u001b[49m\u001b[38;5;241;43m*\u001b[39;49m\u001b[43margs\u001b[49m\u001b[43m,\u001b[49m\u001b[43m \u001b[49m\u001b[38;5;241;43m*\u001b[39;49m\u001b[38;5;241;43m*\u001b[39;49m\u001b[43mkwargs\u001b[49m\u001b[43m)\u001b[49m\n",
      "\u001b[0;31mFileNotFoundError\u001b[0m: [Errno 2] No such file or directory: 'a280-n279.txt'"
     ]
    }
   ],
   "source": [
    "def parse_variables(lines):\n",
    "    variables = {}\n",
    "    for line in lines:\n",
    "        if line.startswith(\"PROBLEM NAME:\"):\n",
    "            variables['problem_name'] = line.split(':')[1].strip()\n",
    "        elif line.startswith(\"KNAPSACK DATA TYPE:\"):\n",
    "            variables['knapsack_data_type'] = line.split(':')[1].strip()\n",
    "        elif line.startswith(\"DIMENSION:\"):\n",
    "            variables['dimension'] = int(line.split(':')[1].strip())\n",
    "        elif line.startswith(\"NUMBER OF ITEMS:\"):\n",
    "            variables['num_items'] = int(line.split(':')[1].strip())\n",
    "        elif line.startswith(\"CAPACITY OF KNAPSACK:\"):\n",
    "            variables['knapsack_capacity'] = int(line.split(':')[1].strip())\n",
    "        elif line.startswith(\"MIN SPEED:\"):\n",
    "            variables['min_speed'] = float(line.split(':')[1].strip())\n",
    "        elif line.startswith(\"MAX SPEED:\"):\n",
    "            variables['max_speed'] = float(line.split(':')[1].strip())\n",
    "        elif line.startswith(\"RENTING RATIO:\"):\n",
    "            variables['renting_ratio'] = float(line.split(':')[1].strip())\n",
    "        elif line.startswith(\"EDGE_WEIGHT_TYPE:\"):\n",
    "            variables['edge_weight_type'] = line.split(':')[1].strip()\n",
    "    return variables\n",
    "\n",
    "def parse_node_coord(lines):\n",
    "    node_coord = {}\n",
    "    for line in lines:\n",
    "        if line.strip() == \"NODE_COORD_SECTION\":\n",
    "            break\n",
    "    for line in lines:\n",
    "        if line.strip() == \"ITEMS SECTION\":\n",
    "            break\n",
    "        index, x, y = map(int, line.split())\n",
    "        node_coord[index] = (x, y)\n",
    "    return node_coord\n",
    "\n",
    "def parse_item_section(lines, dimension):\n",
    "    profit_matrix = [[0] * (dimension + 1) for _ in range(dimension + 1)]\n",
    "    for line in lines:\n",
    "        if line.strip() == \"ITEMS SECTION\":\n",
    "            break\n",
    "    for line in lines:\n",
    "        if line.strip() == \"\":\n",
    "            continue\n",
    "        index, profit, weight, node_number = map(int, line.split())\n",
    "        profit_matrix[0][node_number] = profit  # Assuming node numbering starts from 1\n",
    "        profit_matrix[node_number][0] = profit\n",
    "    return profit_matrix\n",
    "\n",
    "# Example usage:\n",
    "\n",
    "with open('a280-n279.txt', 'r') as file:\n",
    "    lines = file.readlines()\n",
    "\n",
    "variables = parse_variables(lines)\n",
    "node_coord = parse_node_coord(lines)\n",
    "profit_matrix = parse_item_section(lines, variables['dimension'])\n",
    "\n",
    "print(\"Variables:\", variables)\n",
    "print(\"Node Coord:\", node_coord)\n",
    "print(\"Profit Matrix:\", profit_matrix)\n"
   ]
  },
  {
   "cell_type": "code",
   "execution_count": null,
   "metadata": {},
   "outputs": [],
   "source": []
  }
 ],
 "metadata": {
  "kernelspec": {
   "display_name": "Python 3",
   "language": "python",
   "name": "python3"
  },
  "language_info": {
   "codemirror_mode": {
    "name": "ipython",
    "version": 3
   },
   "file_extension": ".py",
   "mimetype": "text/x-python",
   "name": "python",
   "nbconvert_exporter": "python",
   "pygments_lexer": "ipython3",
   "version": "3.10.13"
  }
 },
 "nbformat": 4,
 "nbformat_minor": 2
}
